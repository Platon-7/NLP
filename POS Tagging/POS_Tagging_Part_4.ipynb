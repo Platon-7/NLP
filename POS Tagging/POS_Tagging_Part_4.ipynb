{
  "nbformat": 4,
  "nbformat_minor": 0,
  "metadata": {
    "colab": {
      "provenance": [],
      "toc_visible": true,
      "authorship_tag": "ABX9TyPZwaXHK+R913JLBQ026FeA"
    },
    "kernelspec": {
      "name": "python3",
      "display_name": "Python 3"
    },
    "language_info": {
      "name": "python"
    },
    "accelerator": "GPU",
    "gpuClass": "standard",
    "widgets": {
      "application/vnd.jupyter.widget-state+json": {
        "2443a565c134430fb9d44acc2260b7d6": {
          "model_module": "@jupyter-widgets/controls",
          "model_name": "HBoxModel",
          "model_module_version": "1.5.0",
          "state": {
            "_dom_classes": [],
            "_model_module": "@jupyter-widgets/controls",
            "_model_module_version": "1.5.0",
            "_model_name": "HBoxModel",
            "_view_count": null,
            "_view_module": "@jupyter-widgets/controls",
            "_view_module_version": "1.5.0",
            "_view_name": "HBoxView",
            "box_style": "",
            "children": [
              "IPY_MODEL_fb5328190cfe43a6b787b3a9aa8311ec",
              "IPY_MODEL_ce0c7c6a7c9543fcac2c64703ad41a37",
              "IPY_MODEL_083f9915e9364e639a0a2d5312753858"
            ],
            "layout": "IPY_MODEL_4f8e65f943a04abeaca452f1c951a42a"
          }
        },
        "fb5328190cfe43a6b787b3a9aa8311ec": {
          "model_module": "@jupyter-widgets/controls",
          "model_name": "HTMLModel",
          "model_module_version": "1.5.0",
          "state": {
            "_dom_classes": [],
            "_model_module": "@jupyter-widgets/controls",
            "_model_module_version": "1.5.0",
            "_model_name": "HTMLModel",
            "_view_count": null,
            "_view_module": "@jupyter-widgets/controls",
            "_view_module_version": "1.5.0",
            "_view_name": "HTMLView",
            "description": "",
            "description_tooltip": null,
            "layout": "IPY_MODEL_40240c8a4e8f4bb09d857201ccbced21",
            "placeholder": "​",
            "style": "IPY_MODEL_e1766c703467453e896ac266b3261ac6",
            "value": "Map:  97%"
          }
        },
        "ce0c7c6a7c9543fcac2c64703ad41a37": {
          "model_module": "@jupyter-widgets/controls",
          "model_name": "FloatProgressModel",
          "model_module_version": "1.5.0",
          "state": {
            "_dom_classes": [],
            "_model_module": "@jupyter-widgets/controls",
            "_model_module_version": "1.5.0",
            "_model_name": "FloatProgressModel",
            "_view_count": null,
            "_view_module": "@jupyter-widgets/controls",
            "_view_module_version": "1.5.0",
            "_view_name": "ProgressView",
            "bar_style": "",
            "description": "",
            "description_tooltip": null,
            "layout": "IPY_MODEL_4b393a24676a4ec79333afdcfa39a0dc",
            "max": 3085,
            "min": 0,
            "orientation": "horizontal",
            "style": "IPY_MODEL_26f1440cfa8f4a7f99597d7b19f517f3",
            "value": 3085
          }
        },
        "083f9915e9364e639a0a2d5312753858": {
          "model_module": "@jupyter-widgets/controls",
          "model_name": "HTMLModel",
          "model_module_version": "1.5.0",
          "state": {
            "_dom_classes": [],
            "_model_module": "@jupyter-widgets/controls",
            "_model_module_version": "1.5.0",
            "_model_name": "HTMLModel",
            "_view_count": null,
            "_view_module": "@jupyter-widgets/controls",
            "_view_module_version": "1.5.0",
            "_view_name": "HTMLView",
            "description": "",
            "description_tooltip": null,
            "layout": "IPY_MODEL_a2c377d7030941cbaa43d688ec9be5c7",
            "placeholder": "​",
            "style": "IPY_MODEL_dd21444230bf43ec87d9e4572ae77377",
            "value": " 3000/3085 [00:00&lt;00:00, 5339.71 examples/s]"
          }
        },
        "4f8e65f943a04abeaca452f1c951a42a": {
          "model_module": "@jupyter-widgets/base",
          "model_name": "LayoutModel",
          "model_module_version": "1.2.0",
          "state": {
            "_model_module": "@jupyter-widgets/base",
            "_model_module_version": "1.2.0",
            "_model_name": "LayoutModel",
            "_view_count": null,
            "_view_module": "@jupyter-widgets/base",
            "_view_module_version": "1.2.0",
            "_view_name": "LayoutView",
            "align_content": null,
            "align_items": null,
            "align_self": null,
            "border": null,
            "bottom": null,
            "display": null,
            "flex": null,
            "flex_flow": null,
            "grid_area": null,
            "grid_auto_columns": null,
            "grid_auto_flow": null,
            "grid_auto_rows": null,
            "grid_column": null,
            "grid_gap": null,
            "grid_row": null,
            "grid_template_areas": null,
            "grid_template_columns": null,
            "grid_template_rows": null,
            "height": null,
            "justify_content": null,
            "justify_items": null,
            "left": null,
            "margin": null,
            "max_height": null,
            "max_width": null,
            "min_height": null,
            "min_width": null,
            "object_fit": null,
            "object_position": null,
            "order": null,
            "overflow": null,
            "overflow_x": null,
            "overflow_y": null,
            "padding": null,
            "right": null,
            "top": null,
            "visibility": "hidden",
            "width": null
          }
        },
        "40240c8a4e8f4bb09d857201ccbced21": {
          "model_module": "@jupyter-widgets/base",
          "model_name": "LayoutModel",
          "model_module_version": "1.2.0",
          "state": {
            "_model_module": "@jupyter-widgets/base",
            "_model_module_version": "1.2.0",
            "_model_name": "LayoutModel",
            "_view_count": null,
            "_view_module": "@jupyter-widgets/base",
            "_view_module_version": "1.2.0",
            "_view_name": "LayoutView",
            "align_content": null,
            "align_items": null,
            "align_self": null,
            "border": null,
            "bottom": null,
            "display": null,
            "flex": null,
            "flex_flow": null,
            "grid_area": null,
            "grid_auto_columns": null,
            "grid_auto_flow": null,
            "grid_auto_rows": null,
            "grid_column": null,
            "grid_gap": null,
            "grid_row": null,
            "grid_template_areas": null,
            "grid_template_columns": null,
            "grid_template_rows": null,
            "height": null,
            "justify_content": null,
            "justify_items": null,
            "left": null,
            "margin": null,
            "max_height": null,
            "max_width": null,
            "min_height": null,
            "min_width": null,
            "object_fit": null,
            "object_position": null,
            "order": null,
            "overflow": null,
            "overflow_x": null,
            "overflow_y": null,
            "padding": null,
            "right": null,
            "top": null,
            "visibility": null,
            "width": null
          }
        },
        "e1766c703467453e896ac266b3261ac6": {
          "model_module": "@jupyter-widgets/controls",
          "model_name": "DescriptionStyleModel",
          "model_module_version": "1.5.0",
          "state": {
            "_model_module": "@jupyter-widgets/controls",
            "_model_module_version": "1.5.0",
            "_model_name": "DescriptionStyleModel",
            "_view_count": null,
            "_view_module": "@jupyter-widgets/base",
            "_view_module_version": "1.2.0",
            "_view_name": "StyleView",
            "description_width": ""
          }
        },
        "4b393a24676a4ec79333afdcfa39a0dc": {
          "model_module": "@jupyter-widgets/base",
          "model_name": "LayoutModel",
          "model_module_version": "1.2.0",
          "state": {
            "_model_module": "@jupyter-widgets/base",
            "_model_module_version": "1.2.0",
            "_model_name": "LayoutModel",
            "_view_count": null,
            "_view_module": "@jupyter-widgets/base",
            "_view_module_version": "1.2.0",
            "_view_name": "LayoutView",
            "align_content": null,
            "align_items": null,
            "align_self": null,
            "border": null,
            "bottom": null,
            "display": null,
            "flex": null,
            "flex_flow": null,
            "grid_area": null,
            "grid_auto_columns": null,
            "grid_auto_flow": null,
            "grid_auto_rows": null,
            "grid_column": null,
            "grid_gap": null,
            "grid_row": null,
            "grid_template_areas": null,
            "grid_template_columns": null,
            "grid_template_rows": null,
            "height": null,
            "justify_content": null,
            "justify_items": null,
            "left": null,
            "margin": null,
            "max_height": null,
            "max_width": null,
            "min_height": null,
            "min_width": null,
            "object_fit": null,
            "object_position": null,
            "order": null,
            "overflow": null,
            "overflow_x": null,
            "overflow_y": null,
            "padding": null,
            "right": null,
            "top": null,
            "visibility": null,
            "width": null
          }
        },
        "26f1440cfa8f4a7f99597d7b19f517f3": {
          "model_module": "@jupyter-widgets/controls",
          "model_name": "ProgressStyleModel",
          "model_module_version": "1.5.0",
          "state": {
            "_model_module": "@jupyter-widgets/controls",
            "_model_module_version": "1.5.0",
            "_model_name": "ProgressStyleModel",
            "_view_count": null,
            "_view_module": "@jupyter-widgets/base",
            "_view_module_version": "1.2.0",
            "_view_name": "StyleView",
            "bar_color": null,
            "description_width": ""
          }
        },
        "a2c377d7030941cbaa43d688ec9be5c7": {
          "model_module": "@jupyter-widgets/base",
          "model_name": "LayoutModel",
          "model_module_version": "1.2.0",
          "state": {
            "_model_module": "@jupyter-widgets/base",
            "_model_module_version": "1.2.0",
            "_model_name": "LayoutModel",
            "_view_count": null,
            "_view_module": "@jupyter-widgets/base",
            "_view_module_version": "1.2.0",
            "_view_name": "LayoutView",
            "align_content": null,
            "align_items": null,
            "align_self": null,
            "border": null,
            "bottom": null,
            "display": null,
            "flex": null,
            "flex_flow": null,
            "grid_area": null,
            "grid_auto_columns": null,
            "grid_auto_flow": null,
            "grid_auto_rows": null,
            "grid_column": null,
            "grid_gap": null,
            "grid_row": null,
            "grid_template_areas": null,
            "grid_template_columns": null,
            "grid_template_rows": null,
            "height": null,
            "justify_content": null,
            "justify_items": null,
            "left": null,
            "margin": null,
            "max_height": null,
            "max_width": null,
            "min_height": null,
            "min_width": null,
            "object_fit": null,
            "object_position": null,
            "order": null,
            "overflow": null,
            "overflow_x": null,
            "overflow_y": null,
            "padding": null,
            "right": null,
            "top": null,
            "visibility": null,
            "width": null
          }
        },
        "dd21444230bf43ec87d9e4572ae77377": {
          "model_module": "@jupyter-widgets/controls",
          "model_name": "DescriptionStyleModel",
          "model_module_version": "1.5.0",
          "state": {
            "_model_module": "@jupyter-widgets/controls",
            "_model_module_version": "1.5.0",
            "_model_name": "DescriptionStyleModel",
            "_view_count": null,
            "_view_module": "@jupyter-widgets/base",
            "_view_module_version": "1.2.0",
            "_view_name": "StyleView",
            "description_width": ""
          }
        },
        "8ecf937416e8442ca7ed62891a7544ff": {
          "model_module": "@jupyter-widgets/controls",
          "model_name": "HBoxModel",
          "model_module_version": "1.5.0",
          "state": {
            "_dom_classes": [],
            "_model_module": "@jupyter-widgets/controls",
            "_model_module_version": "1.5.0",
            "_model_name": "HBoxModel",
            "_view_count": null,
            "_view_module": "@jupyter-widgets/controls",
            "_view_module_version": "1.5.0",
            "_view_name": "HBoxView",
            "box_style": "",
            "children": [
              "IPY_MODEL_6b99ee6e87344d02a14e534329386887",
              "IPY_MODEL_abeee458df264b0c944cf33d9e52f006",
              "IPY_MODEL_3b57887bd77a422a80587957d42fa579"
            ],
            "layout": "IPY_MODEL_177a273035084470b1a8ca669eb148bb"
          }
        },
        "6b99ee6e87344d02a14e534329386887": {
          "model_module": "@jupyter-widgets/controls",
          "model_name": "HTMLModel",
          "model_module_version": "1.5.0",
          "state": {
            "_dom_classes": [],
            "_model_module": "@jupyter-widgets/controls",
            "_model_module_version": "1.5.0",
            "_model_name": "HTMLModel",
            "_view_count": null,
            "_view_module": "@jupyter-widgets/controls",
            "_view_module_version": "1.5.0",
            "_view_name": "HTMLView",
            "description": "",
            "description_tooltip": null,
            "layout": "IPY_MODEL_d0237d95752a48b8b0481129ffda1eb0",
            "placeholder": "​",
            "style": "IPY_MODEL_86ee02ad14b84c0baba9cfecb04d35b1",
            "value": "Map:  96%"
          }
        },
        "abeee458df264b0c944cf33d9e52f006": {
          "model_module": "@jupyter-widgets/controls",
          "model_name": "FloatProgressModel",
          "model_module_version": "1.5.0",
          "state": {
            "_dom_classes": [],
            "_model_module": "@jupyter-widgets/controls",
            "_model_module_version": "1.5.0",
            "_model_name": "FloatProgressModel",
            "_view_count": null,
            "_view_module": "@jupyter-widgets/controls",
            "_view_module_version": "1.5.0",
            "_view_name": "ProgressView",
            "bar_style": "",
            "description": "",
            "description_tooltip": null,
            "layout": "IPY_MODEL_f4c812423d6b4aa4abadf562d945cd39",
            "max": 1045,
            "min": 0,
            "orientation": "horizontal",
            "style": "IPY_MODEL_fc47234bd5564107b3afe4c3943c8c4b",
            "value": 1045
          }
        },
        "3b57887bd77a422a80587957d42fa579": {
          "model_module": "@jupyter-widgets/controls",
          "model_name": "HTMLModel",
          "model_module_version": "1.5.0",
          "state": {
            "_dom_classes": [],
            "_model_module": "@jupyter-widgets/controls",
            "_model_module_version": "1.5.0",
            "_model_name": "HTMLModel",
            "_view_count": null,
            "_view_module": "@jupyter-widgets/controls",
            "_view_module_version": "1.5.0",
            "_view_name": "HTMLView",
            "description": "",
            "description_tooltip": null,
            "layout": "IPY_MODEL_49c041b3c1d045bbb42ebcd77236a6e9",
            "placeholder": "​",
            "style": "IPY_MODEL_5c15b22a8a6e4a24a8b907799508b565",
            "value": " 1000/1045 [00:00&lt;00:00, 5307.67 examples/s]"
          }
        },
        "177a273035084470b1a8ca669eb148bb": {
          "model_module": "@jupyter-widgets/base",
          "model_name": "LayoutModel",
          "model_module_version": "1.2.0",
          "state": {
            "_model_module": "@jupyter-widgets/base",
            "_model_module_version": "1.2.0",
            "_model_name": "LayoutModel",
            "_view_count": null,
            "_view_module": "@jupyter-widgets/base",
            "_view_module_version": "1.2.0",
            "_view_name": "LayoutView",
            "align_content": null,
            "align_items": null,
            "align_self": null,
            "border": null,
            "bottom": null,
            "display": null,
            "flex": null,
            "flex_flow": null,
            "grid_area": null,
            "grid_auto_columns": null,
            "grid_auto_flow": null,
            "grid_auto_rows": null,
            "grid_column": null,
            "grid_gap": null,
            "grid_row": null,
            "grid_template_areas": null,
            "grid_template_columns": null,
            "grid_template_rows": null,
            "height": null,
            "justify_content": null,
            "justify_items": null,
            "left": null,
            "margin": null,
            "max_height": null,
            "max_width": null,
            "min_height": null,
            "min_width": null,
            "object_fit": null,
            "object_position": null,
            "order": null,
            "overflow": null,
            "overflow_x": null,
            "overflow_y": null,
            "padding": null,
            "right": null,
            "top": null,
            "visibility": "hidden",
            "width": null
          }
        },
        "d0237d95752a48b8b0481129ffda1eb0": {
          "model_module": "@jupyter-widgets/base",
          "model_name": "LayoutModel",
          "model_module_version": "1.2.0",
          "state": {
            "_model_module": "@jupyter-widgets/base",
            "_model_module_version": "1.2.0",
            "_model_name": "LayoutModel",
            "_view_count": null,
            "_view_module": "@jupyter-widgets/base",
            "_view_module_version": "1.2.0",
            "_view_name": "LayoutView",
            "align_content": null,
            "align_items": null,
            "align_self": null,
            "border": null,
            "bottom": null,
            "display": null,
            "flex": null,
            "flex_flow": null,
            "grid_area": null,
            "grid_auto_columns": null,
            "grid_auto_flow": null,
            "grid_auto_rows": null,
            "grid_column": null,
            "grid_gap": null,
            "grid_row": null,
            "grid_template_areas": null,
            "grid_template_columns": null,
            "grid_template_rows": null,
            "height": null,
            "justify_content": null,
            "justify_items": null,
            "left": null,
            "margin": null,
            "max_height": null,
            "max_width": null,
            "min_height": null,
            "min_width": null,
            "object_fit": null,
            "object_position": null,
            "order": null,
            "overflow": null,
            "overflow_x": null,
            "overflow_y": null,
            "padding": null,
            "right": null,
            "top": null,
            "visibility": null,
            "width": null
          }
        },
        "86ee02ad14b84c0baba9cfecb04d35b1": {
          "model_module": "@jupyter-widgets/controls",
          "model_name": "DescriptionStyleModel",
          "model_module_version": "1.5.0",
          "state": {
            "_model_module": "@jupyter-widgets/controls",
            "_model_module_version": "1.5.0",
            "_model_name": "DescriptionStyleModel",
            "_view_count": null,
            "_view_module": "@jupyter-widgets/base",
            "_view_module_version": "1.2.0",
            "_view_name": "StyleView",
            "description_width": ""
          }
        },
        "f4c812423d6b4aa4abadf562d945cd39": {
          "model_module": "@jupyter-widgets/base",
          "model_name": "LayoutModel",
          "model_module_version": "1.2.0",
          "state": {
            "_model_module": "@jupyter-widgets/base",
            "_model_module_version": "1.2.0",
            "_model_name": "LayoutModel",
            "_view_count": null,
            "_view_module": "@jupyter-widgets/base",
            "_view_module_version": "1.2.0",
            "_view_name": "LayoutView",
            "align_content": null,
            "align_items": null,
            "align_self": null,
            "border": null,
            "bottom": null,
            "display": null,
            "flex": null,
            "flex_flow": null,
            "grid_area": null,
            "grid_auto_columns": null,
            "grid_auto_flow": null,
            "grid_auto_rows": null,
            "grid_column": null,
            "grid_gap": null,
            "grid_row": null,
            "grid_template_areas": null,
            "grid_template_columns": null,
            "grid_template_rows": null,
            "height": null,
            "justify_content": null,
            "justify_items": null,
            "left": null,
            "margin": null,
            "max_height": null,
            "max_width": null,
            "min_height": null,
            "min_width": null,
            "object_fit": null,
            "object_position": null,
            "order": null,
            "overflow": null,
            "overflow_x": null,
            "overflow_y": null,
            "padding": null,
            "right": null,
            "top": null,
            "visibility": null,
            "width": null
          }
        },
        "fc47234bd5564107b3afe4c3943c8c4b": {
          "model_module": "@jupyter-widgets/controls",
          "model_name": "ProgressStyleModel",
          "model_module_version": "1.5.0",
          "state": {
            "_model_module": "@jupyter-widgets/controls",
            "_model_module_version": "1.5.0",
            "_model_name": "ProgressStyleModel",
            "_view_count": null,
            "_view_module": "@jupyter-widgets/base",
            "_view_module_version": "1.2.0",
            "_view_name": "StyleView",
            "bar_color": null,
            "description_width": ""
          }
        },
        "49c041b3c1d045bbb42ebcd77236a6e9": {
          "model_module": "@jupyter-widgets/base",
          "model_name": "LayoutModel",
          "model_module_version": "1.2.0",
          "state": {
            "_model_module": "@jupyter-widgets/base",
            "_model_module_version": "1.2.0",
            "_model_name": "LayoutModel",
            "_view_count": null,
            "_view_module": "@jupyter-widgets/base",
            "_view_module_version": "1.2.0",
            "_view_name": "LayoutView",
            "align_content": null,
            "align_items": null,
            "align_self": null,
            "border": null,
            "bottom": null,
            "display": null,
            "flex": null,
            "flex_flow": null,
            "grid_area": null,
            "grid_auto_columns": null,
            "grid_auto_flow": null,
            "grid_auto_rows": null,
            "grid_column": null,
            "grid_gap": null,
            "grid_row": null,
            "grid_template_areas": null,
            "grid_template_columns": null,
            "grid_template_rows": null,
            "height": null,
            "justify_content": null,
            "justify_items": null,
            "left": null,
            "margin": null,
            "max_height": null,
            "max_width": null,
            "min_height": null,
            "min_width": null,
            "object_fit": null,
            "object_position": null,
            "order": null,
            "overflow": null,
            "overflow_x": null,
            "overflow_y": null,
            "padding": null,
            "right": null,
            "top": null,
            "visibility": null,
            "width": null
          }
        },
        "5c15b22a8a6e4a24a8b907799508b565": {
          "model_module": "@jupyter-widgets/controls",
          "model_name": "DescriptionStyleModel",
          "model_module_version": "1.5.0",
          "state": {
            "_model_module": "@jupyter-widgets/controls",
            "_model_module_version": "1.5.0",
            "_model_name": "DescriptionStyleModel",
            "_view_count": null,
            "_view_module": "@jupyter-widgets/base",
            "_view_module_version": "1.2.0",
            "_view_name": "StyleView",
            "description_width": ""
          }
        },
        "0a4a0ad33e2046179ccfbf530a37655b": {
          "model_module": "@jupyter-widgets/controls",
          "model_name": "HBoxModel",
          "model_module_version": "1.5.0",
          "state": {
            "_dom_classes": [],
            "_model_module": "@jupyter-widgets/controls",
            "_model_module_version": "1.5.0",
            "_model_name": "HBoxModel",
            "_view_count": null,
            "_view_module": "@jupyter-widgets/controls",
            "_view_module_version": "1.5.0",
            "_view_name": "HBoxView",
            "box_style": "",
            "children": [
              "IPY_MODEL_6e3c239de507490ab5a7e6e22bda4032",
              "IPY_MODEL_1dc1a38668c3471da293b9d258c0c9a0",
              "IPY_MODEL_20f0466572384d64b8a1b94f71e7b4d6"
            ],
            "layout": "IPY_MODEL_4e88b1dd6d774fb1899eac9d3273a0ac"
          }
        },
        "6e3c239de507490ab5a7e6e22bda4032": {
          "model_module": "@jupyter-widgets/controls",
          "model_name": "HTMLModel",
          "model_module_version": "1.5.0",
          "state": {
            "_dom_classes": [],
            "_model_module": "@jupyter-widgets/controls",
            "_model_module_version": "1.5.0",
            "_model_name": "HTMLModel",
            "_view_count": null,
            "_view_module": "@jupyter-widgets/controls",
            "_view_module_version": "1.5.0",
            "_view_name": "HTMLView",
            "description": "",
            "description_tooltip": null,
            "layout": "IPY_MODEL_7af4cd3b889c43e1a85691491a443b12",
            "placeholder": "​",
            "style": "IPY_MODEL_5707a991f59f4ca3bca709f4853779f9",
            "value": "Map:  98%"
          }
        },
        "1dc1a38668c3471da293b9d258c0c9a0": {
          "model_module": "@jupyter-widgets/controls",
          "model_name": "FloatProgressModel",
          "model_module_version": "1.5.0",
          "state": {
            "_dom_classes": [],
            "_model_module": "@jupyter-widgets/controls",
            "_model_module_version": "1.5.0",
            "_model_name": "FloatProgressModel",
            "_view_count": null,
            "_view_module": "@jupyter-widgets/controls",
            "_view_module_version": "1.5.0",
            "_view_name": "ProgressView",
            "bar_style": "",
            "description": "",
            "description_tooltip": null,
            "layout": "IPY_MODEL_e2f818ea68d6497cbae06d7001f3f493",
            "max": 1018,
            "min": 0,
            "orientation": "horizontal",
            "style": "IPY_MODEL_ed1393b918364a2182e06ee4c4b2e59c",
            "value": 1018
          }
        },
        "20f0466572384d64b8a1b94f71e7b4d6": {
          "model_module": "@jupyter-widgets/controls",
          "model_name": "HTMLModel",
          "model_module_version": "1.5.0",
          "state": {
            "_dom_classes": [],
            "_model_module": "@jupyter-widgets/controls",
            "_model_module_version": "1.5.0",
            "_model_name": "HTMLModel",
            "_view_count": null,
            "_view_module": "@jupyter-widgets/controls",
            "_view_module_version": "1.5.0",
            "_view_name": "HTMLView",
            "description": "",
            "description_tooltip": null,
            "layout": "IPY_MODEL_5b518a1e527b4a8d8bcc4ba0a48a0f63",
            "placeholder": "​",
            "style": "IPY_MODEL_f0eda7489a3847329abbe7b78dedf1f1",
            "value": " 1000/1018 [00:00&lt;00:00, 4869.77 examples/s]"
          }
        },
        "4e88b1dd6d774fb1899eac9d3273a0ac": {
          "model_module": "@jupyter-widgets/base",
          "model_name": "LayoutModel",
          "model_module_version": "1.2.0",
          "state": {
            "_model_module": "@jupyter-widgets/base",
            "_model_module_version": "1.2.0",
            "_model_name": "LayoutModel",
            "_view_count": null,
            "_view_module": "@jupyter-widgets/base",
            "_view_module_version": "1.2.0",
            "_view_name": "LayoutView",
            "align_content": null,
            "align_items": null,
            "align_self": null,
            "border": null,
            "bottom": null,
            "display": null,
            "flex": null,
            "flex_flow": null,
            "grid_area": null,
            "grid_auto_columns": null,
            "grid_auto_flow": null,
            "grid_auto_rows": null,
            "grid_column": null,
            "grid_gap": null,
            "grid_row": null,
            "grid_template_areas": null,
            "grid_template_columns": null,
            "grid_template_rows": null,
            "height": null,
            "justify_content": null,
            "justify_items": null,
            "left": null,
            "margin": null,
            "max_height": null,
            "max_width": null,
            "min_height": null,
            "min_width": null,
            "object_fit": null,
            "object_position": null,
            "order": null,
            "overflow": null,
            "overflow_x": null,
            "overflow_y": null,
            "padding": null,
            "right": null,
            "top": null,
            "visibility": "hidden",
            "width": null
          }
        },
        "7af4cd3b889c43e1a85691491a443b12": {
          "model_module": "@jupyter-widgets/base",
          "model_name": "LayoutModel",
          "model_module_version": "1.2.0",
          "state": {
            "_model_module": "@jupyter-widgets/base",
            "_model_module_version": "1.2.0",
            "_model_name": "LayoutModel",
            "_view_count": null,
            "_view_module": "@jupyter-widgets/base",
            "_view_module_version": "1.2.0",
            "_view_name": "LayoutView",
            "align_content": null,
            "align_items": null,
            "align_self": null,
            "border": null,
            "bottom": null,
            "display": null,
            "flex": null,
            "flex_flow": null,
            "grid_area": null,
            "grid_auto_columns": null,
            "grid_auto_flow": null,
            "grid_auto_rows": null,
            "grid_column": null,
            "grid_gap": null,
            "grid_row": null,
            "grid_template_areas": null,
            "grid_template_columns": null,
            "grid_template_rows": null,
            "height": null,
            "justify_content": null,
            "justify_items": null,
            "left": null,
            "margin": null,
            "max_height": null,
            "max_width": null,
            "min_height": null,
            "min_width": null,
            "object_fit": null,
            "object_position": null,
            "order": null,
            "overflow": null,
            "overflow_x": null,
            "overflow_y": null,
            "padding": null,
            "right": null,
            "top": null,
            "visibility": null,
            "width": null
          }
        },
        "5707a991f59f4ca3bca709f4853779f9": {
          "model_module": "@jupyter-widgets/controls",
          "model_name": "DescriptionStyleModel",
          "model_module_version": "1.5.0",
          "state": {
            "_model_module": "@jupyter-widgets/controls",
            "_model_module_version": "1.5.0",
            "_model_name": "DescriptionStyleModel",
            "_view_count": null,
            "_view_module": "@jupyter-widgets/base",
            "_view_module_version": "1.2.0",
            "_view_name": "StyleView",
            "description_width": ""
          }
        },
        "e2f818ea68d6497cbae06d7001f3f493": {
          "model_module": "@jupyter-widgets/base",
          "model_name": "LayoutModel",
          "model_module_version": "1.2.0",
          "state": {
            "_model_module": "@jupyter-widgets/base",
            "_model_module_version": "1.2.0",
            "_model_name": "LayoutModel",
            "_view_count": null,
            "_view_module": "@jupyter-widgets/base",
            "_view_module_version": "1.2.0",
            "_view_name": "LayoutView",
            "align_content": null,
            "align_items": null,
            "align_self": null,
            "border": null,
            "bottom": null,
            "display": null,
            "flex": null,
            "flex_flow": null,
            "grid_area": null,
            "grid_auto_columns": null,
            "grid_auto_flow": null,
            "grid_auto_rows": null,
            "grid_column": null,
            "grid_gap": null,
            "grid_row": null,
            "grid_template_areas": null,
            "grid_template_columns": null,
            "grid_template_rows": null,
            "height": null,
            "justify_content": null,
            "justify_items": null,
            "left": null,
            "margin": null,
            "max_height": null,
            "max_width": null,
            "min_height": null,
            "min_width": null,
            "object_fit": null,
            "object_position": null,
            "order": null,
            "overflow": null,
            "overflow_x": null,
            "overflow_y": null,
            "padding": null,
            "right": null,
            "top": null,
            "visibility": null,
            "width": null
          }
        },
        "ed1393b918364a2182e06ee4c4b2e59c": {
          "model_module": "@jupyter-widgets/controls",
          "model_name": "ProgressStyleModel",
          "model_module_version": "1.5.0",
          "state": {
            "_model_module": "@jupyter-widgets/controls",
            "_model_module_version": "1.5.0",
            "_model_name": "ProgressStyleModel",
            "_view_count": null,
            "_view_module": "@jupyter-widgets/base",
            "_view_module_version": "1.2.0",
            "_view_name": "StyleView",
            "bar_color": null,
            "description_width": ""
          }
        },
        "5b518a1e527b4a8d8bcc4ba0a48a0f63": {
          "model_module": "@jupyter-widgets/base",
          "model_name": "LayoutModel",
          "model_module_version": "1.2.0",
          "state": {
            "_model_module": "@jupyter-widgets/base",
            "_model_module_version": "1.2.0",
            "_model_name": "LayoutModel",
            "_view_count": null,
            "_view_module": "@jupyter-widgets/base",
            "_view_module_version": "1.2.0",
            "_view_name": "LayoutView",
            "align_content": null,
            "align_items": null,
            "align_self": null,
            "border": null,
            "bottom": null,
            "display": null,
            "flex": null,
            "flex_flow": null,
            "grid_area": null,
            "grid_auto_columns": null,
            "grid_auto_flow": null,
            "grid_auto_rows": null,
            "grid_column": null,
            "grid_gap": null,
            "grid_row": null,
            "grid_template_areas": null,
            "grid_template_columns": null,
            "grid_template_rows": null,
            "height": null,
            "justify_content": null,
            "justify_items": null,
            "left": null,
            "margin": null,
            "max_height": null,
            "max_width": null,
            "min_height": null,
            "min_width": null,
            "object_fit": null,
            "object_position": null,
            "order": null,
            "overflow": null,
            "overflow_x": null,
            "overflow_y": null,
            "padding": null,
            "right": null,
            "top": null,
            "visibility": null,
            "width": null
          }
        },
        "f0eda7489a3847329abbe7b78dedf1f1": {
          "model_module": "@jupyter-widgets/controls",
          "model_name": "DescriptionStyleModel",
          "model_module_version": "1.5.0",
          "state": {
            "_model_module": "@jupyter-widgets/controls",
            "_model_module_version": "1.5.0",
            "_model_name": "DescriptionStyleModel",
            "_view_count": null,
            "_view_module": "@jupyter-widgets/base",
            "_view_module_version": "1.2.0",
            "_view_name": "StyleView",
            "description_width": ""
          }
        }
      }
    }
  },
  "cells": [
    {
      "cell_type": "markdown",
      "metadata": {
        "id": "gRXODnxy0Thc"
      },
      "source": [
        "# **POS Tagging**"
      ]
    },
    {
      "cell_type": "markdown",
      "metadata": {
        "id": "-K8IUY23KfIf"
      },
      "source": [
        "# PART 4"
      ]
    },
    {
      "cell_type": "markdown",
      "metadata": {
        "id": "JqHnUDfH1eh5"
      },
      "source": [
        "## Installs, Imports and Paths"
      ]
    },
    {
      "cell_type": "code",
      "source": [
        "!pip install scikit_learn\n",
        "!pip install nltk\n",
        "!pip install --upgrade wandb\n",
        "!pip install tensorflow\n",
        "!pip install scipy\n",
        "!pip install scikeras\n",
        "!pip install seqeval\n",
        "!pip install --upgrade torch\n",
        "!pip install gensim\n",
        "!pip install ray[tune]\n",
        "!pip install bert-for-tf2\n",
        "!pip install --upgrade torch\n",
        "!pip install --upgrade transformers\n",
        "!pip install evaluate\n",
        "!pip install datasets\n",
        "!pip install wandb"
      ],
      "metadata": {
        "id": "Ou7bMAHPInS3"
      },
      "execution_count": null,
      "outputs": []
    },
    {
      "cell_type": "code",
      "source": [
        "from google.colab import files\n",
        "import numpy as np\n",
        "import pandas as pd\n",
        "import nltk\n",
        "import wandb\n",
        "import tensorflow as tf\n",
        "import os\n",
        "import torch\n",
        "import spacy\n",
        "import keras\n",
        "import evaluate\n",
        "import seqeval\n",
        "import warnings\n",
        "from datasets import Dataset\n",
        "from transformers import AutoTokenizer\n",
        "from transformers import DataCollatorForTokenClassification\n",
        "from transformers import AutoModelForTokenClassification, TrainingArguments, Trainer\n",
        "from sklearn import preprocessing\n",
        "from sklearn.metrics import accuracy_score\n",
        "from nltk import sent_tokenize, word_tokenize, pos_tag\n",
        "from sklearn.model_selection import learning_curve, GridSearchCV\n",
        "from tabulate import tabulate\n",
        "from nltk.stem import WordNetLemmatizer\n",
        "from sklearn.metrics import f1_score, precision_score, recall_score, roc_auc_score\n",
        "from transformers import TFAutoModelForTokenClassification\n",
        "from transformers.keras_callbacks import KerasMetricCallback\n",
        "from ray.tune import CLIReporter\n",
        "from ray.tune.schedulers import ASHAScheduler\n",
        "from ray import tune\n",
        "\n",
        "stemmer = WordNetLemmatizer()"
      ],
      "metadata": {
        "id": "tsK6_9J1I-Ck"
      },
      "execution_count": 2,
      "outputs": []
    },
    {
      "cell_type": "code",
      "source": [
        "import locale\n",
        "def getpreferredencoding(do_setlocale = True):\n",
        "    return \"UTF-8\"\n",
        "locale.getpreferredencoding = getpreferredencoding"
      ],
      "metadata": {
        "id": "vh-yCJ-WMu8f"
      },
      "execution_count": 3,
      "outputs": []
    },
    {
      "cell_type": "code",
      "source": [
        "!wandb login"
      ],
      "metadata": {
        "colab": {
          "base_uri": "https://localhost:8080/"
        },
        "id": "tZraQ1q5JOj5",
        "outputId": "2ab2d60c-968b-4913-8508-6d42d580d779"
      },
      "execution_count": 4,
      "outputs": [
        {
          "output_type": "stream",
          "name": "stdout",
          "text": [
            "\u001b[34m\u001b[1mwandb\u001b[0m: Currently logged in as: \u001b[33mkarageorgisplatonas\u001b[0m (\u001b[33mnlp-squad\u001b[0m). Use \u001b[1m`wandb login --relogin`\u001b[0m to force relogin\n"
          ]
        }
      ]
    },
    {
      "cell_type": "code",
      "source": [
        "%env WANDB_LOG_MODEL=true"
      ],
      "metadata": {
        "colab": {
          "base_uri": "https://localhost:8080/"
        },
        "id": "QeqwKNFcJPhX",
        "outputId": "c65c904e-9dbe-4653-f561-a6435c733d3d"
      },
      "execution_count": 5,
      "outputs": [
        {
          "output_type": "stream",
          "name": "stdout",
          "text": [
            "env: WANDB_LOG_MODEL=true\n"
          ]
        }
      ]
    },
    {
      "cell_type": "code",
      "source": [
        "%env WANDB_PROJECT = sentiment-analysis"
      ],
      "metadata": {
        "colab": {
          "base_uri": "https://localhost:8080/"
        },
        "id": "Ci7wacXrr3Od",
        "outputId": "cb0d01f3-6b51-46a3-d316-c8aa80c58ff0"
      },
      "execution_count": 6,
      "outputs": [
        {
          "output_type": "stream",
          "name": "stdout",
          "text": [
            "env: WANDB_PROJECT=sentiment-analysis\n"
          ]
        }
      ]
    },
    {
      "cell_type": "code",
      "source": [
        "%env WANDB_NOTEBOOK_NAME = \"/content/POS-Tagging-Part-4\""
      ],
      "metadata": {
        "colab": {
          "base_uri": "https://localhost:8080/"
        },
        "id": "rXE_hkCMr4fv",
        "outputId": "14aa4b89-9a10-4573-d66d-0ec27608200a"
      },
      "execution_count": 7,
      "outputs": [
        {
          "output_type": "stream",
          "name": "stdout",
          "text": [
            "env: WANDB_NOTEBOOK_NAME=\"/content/POS-Tagging-Part-4\"\n"
          ]
        }
      ]
    },
    {
      "cell_type": "code",
      "source": [
        "if not os.path.exists('./POS-Tagging'):\n",
        "  os.makedirs('./POS-Tagging')\n",
        "os.chdir('./POS-Tagging')\n",
        "uploaded = files.upload()"
      ],
      "metadata": {
        "colab": {
          "base_uri": "https://localhost:8080/",
          "height": 143
        },
        "id": "llLqRRlwJQW4",
        "outputId": "40f8e9f8-0d25-4772-8f5c-94bca35587da"
      },
      "execution_count": 8,
      "outputs": [
        {
          "output_type": "display_data",
          "data": {
            "text/plain": [
              "<IPython.core.display.HTML object>"
            ],
            "text/html": [
              "\n",
              "     <input type=\"file\" id=\"files-93a9fc55-1ac1-45f8-bd7b-d04214b6f7f4\" name=\"files[]\" multiple disabled\n",
              "        style=\"border:none\" />\n",
              "     <output id=\"result-93a9fc55-1ac1-45f8-bd7b-d04214b6f7f4\">\n",
              "      Upload widget is only available when the cell has been executed in the\n",
              "      current browser session. Please rerun this cell to enable.\n",
              "      </output>\n",
              "      <script>// Copyright 2017 Google LLC\n",
              "//\n",
              "// Licensed under the Apache License, Version 2.0 (the \"License\");\n",
              "// you may not use this file except in compliance with the License.\n",
              "// You may obtain a copy of the License at\n",
              "//\n",
              "//      http://www.apache.org/licenses/LICENSE-2.0\n",
              "//\n",
              "// Unless required by applicable law or agreed to in writing, software\n",
              "// distributed under the License is distributed on an \"AS IS\" BASIS,\n",
              "// WITHOUT WARRANTIES OR CONDITIONS OF ANY KIND, either express or implied.\n",
              "// See the License for the specific language governing permissions and\n",
              "// limitations under the License.\n",
              "\n",
              "/**\n",
              " * @fileoverview Helpers for google.colab Python module.\n",
              " */\n",
              "(function(scope) {\n",
              "function span(text, styleAttributes = {}) {\n",
              "  const element = document.createElement('span');\n",
              "  element.textContent = text;\n",
              "  for (const key of Object.keys(styleAttributes)) {\n",
              "    element.style[key] = styleAttributes[key];\n",
              "  }\n",
              "  return element;\n",
              "}\n",
              "\n",
              "// Max number of bytes which will be uploaded at a time.\n",
              "const MAX_PAYLOAD_SIZE = 100 * 1024;\n",
              "\n",
              "function _uploadFiles(inputId, outputId) {\n",
              "  const steps = uploadFilesStep(inputId, outputId);\n",
              "  const outputElement = document.getElementById(outputId);\n",
              "  // Cache steps on the outputElement to make it available for the next call\n",
              "  // to uploadFilesContinue from Python.\n",
              "  outputElement.steps = steps;\n",
              "\n",
              "  return _uploadFilesContinue(outputId);\n",
              "}\n",
              "\n",
              "// This is roughly an async generator (not supported in the browser yet),\n",
              "// where there are multiple asynchronous steps and the Python side is going\n",
              "// to poll for completion of each step.\n",
              "// This uses a Promise to block the python side on completion of each step,\n",
              "// then passes the result of the previous step as the input to the next step.\n",
              "function _uploadFilesContinue(outputId) {\n",
              "  const outputElement = document.getElementById(outputId);\n",
              "  const steps = outputElement.steps;\n",
              "\n",
              "  const next = steps.next(outputElement.lastPromiseValue);\n",
              "  return Promise.resolve(next.value.promise).then((value) => {\n",
              "    // Cache the last promise value to make it available to the next\n",
              "    // step of the generator.\n",
              "    outputElement.lastPromiseValue = value;\n",
              "    return next.value.response;\n",
              "  });\n",
              "}\n",
              "\n",
              "/**\n",
              " * Generator function which is called between each async step of the upload\n",
              " * process.\n",
              " * @param {string} inputId Element ID of the input file picker element.\n",
              " * @param {string} outputId Element ID of the output display.\n",
              " * @return {!Iterable<!Object>} Iterable of next steps.\n",
              " */\n",
              "function* uploadFilesStep(inputId, outputId) {\n",
              "  const inputElement = document.getElementById(inputId);\n",
              "  inputElement.disabled = false;\n",
              "\n",
              "  const outputElement = document.getElementById(outputId);\n",
              "  outputElement.innerHTML = '';\n",
              "\n",
              "  const pickedPromise = new Promise((resolve) => {\n",
              "    inputElement.addEventListener('change', (e) => {\n",
              "      resolve(e.target.files);\n",
              "    });\n",
              "  });\n",
              "\n",
              "  const cancel = document.createElement('button');\n",
              "  inputElement.parentElement.appendChild(cancel);\n",
              "  cancel.textContent = 'Cancel upload';\n",
              "  const cancelPromise = new Promise((resolve) => {\n",
              "    cancel.onclick = () => {\n",
              "      resolve(null);\n",
              "    };\n",
              "  });\n",
              "\n",
              "  // Wait for the user to pick the files.\n",
              "  const files = yield {\n",
              "    promise: Promise.race([pickedPromise, cancelPromise]),\n",
              "    response: {\n",
              "      action: 'starting',\n",
              "    }\n",
              "  };\n",
              "\n",
              "  cancel.remove();\n",
              "\n",
              "  // Disable the input element since further picks are not allowed.\n",
              "  inputElement.disabled = true;\n",
              "\n",
              "  if (!files) {\n",
              "    return {\n",
              "      response: {\n",
              "        action: 'complete',\n",
              "      }\n",
              "    };\n",
              "  }\n",
              "\n",
              "  for (const file of files) {\n",
              "    const li = document.createElement('li');\n",
              "    li.append(span(file.name, {fontWeight: 'bold'}));\n",
              "    li.append(span(\n",
              "        `(${file.type || 'n/a'}) - ${file.size} bytes, ` +\n",
              "        `last modified: ${\n",
              "            file.lastModifiedDate ? file.lastModifiedDate.toLocaleDateString() :\n",
              "                                    'n/a'} - `));\n",
              "    const percent = span('0% done');\n",
              "    li.appendChild(percent);\n",
              "\n",
              "    outputElement.appendChild(li);\n",
              "\n",
              "    const fileDataPromise = new Promise((resolve) => {\n",
              "      const reader = new FileReader();\n",
              "      reader.onload = (e) => {\n",
              "        resolve(e.target.result);\n",
              "      };\n",
              "      reader.readAsArrayBuffer(file);\n",
              "    });\n",
              "    // Wait for the data to be ready.\n",
              "    let fileData = yield {\n",
              "      promise: fileDataPromise,\n",
              "      response: {\n",
              "        action: 'continue',\n",
              "      }\n",
              "    };\n",
              "\n",
              "    // Use a chunked sending to avoid message size limits. See b/62115660.\n",
              "    let position = 0;\n",
              "    do {\n",
              "      const length = Math.min(fileData.byteLength - position, MAX_PAYLOAD_SIZE);\n",
              "      const chunk = new Uint8Array(fileData, position, length);\n",
              "      position += length;\n",
              "\n",
              "      const base64 = btoa(String.fromCharCode.apply(null, chunk));\n",
              "      yield {\n",
              "        response: {\n",
              "          action: 'append',\n",
              "          file: file.name,\n",
              "          data: base64,\n",
              "        },\n",
              "      };\n",
              "\n",
              "      let percentDone = fileData.byteLength === 0 ?\n",
              "          100 :\n",
              "          Math.round((position / fileData.byteLength) * 100);\n",
              "      percent.textContent = `${percentDone}% done`;\n",
              "\n",
              "    } while (position < fileData.byteLength);\n",
              "  }\n",
              "\n",
              "  // All done.\n",
              "  yield {\n",
              "    response: {\n",
              "      action: 'complete',\n",
              "    }\n",
              "  };\n",
              "}\n",
              "\n",
              "scope.google = scope.google || {};\n",
              "scope.google.colab = scope.google.colab || {};\n",
              "scope.google.colab._files = {\n",
              "  _uploadFiles,\n",
              "  _uploadFilesContinue,\n",
              "};\n",
              "})(self);\n",
              "</script> "
            ]
          },
          "metadata": {}
        },
        {
          "output_type": "stream",
          "name": "stdout",
          "text": [
            "Saving en_lines-ud-dev.txt to en_lines-ud-dev (1).txt\n",
            "Saving en_lines-ud-test.txt to en_lines-ud-test (1).txt\n",
            "Saving en_lines-ud-train.txt to en_lines-ud-train (1).txt\n"
          ]
        }
      ]
    },
    {
      "cell_type": "markdown",
      "metadata": {
        "id": "BL_exeMt2Gxn"
      },
      "source": [
        "## Data Preprocessing"
      ]
    },
    {
      "cell_type": "code",
      "source": [
        "def myData(name, percentage):\n",
        "  with open(name, \"r\", encoding = 'utf8') as myfile:\n",
        "    my_data = myfile.read()\n",
        "    cropped_data = my_data[:int(len(my_data)*percentage)]\n",
        "\n",
        "  return cropped_data\n",
        "\n",
        "\n",
        "train_data = myData(\"en_lines-ud-train.txt\", 1) # as a second parameter pass the percentage of the data you want\n",
        "dev_data = myData(\"en_lines-ud-dev.txt\", 1)\n",
        "test_data = myData(\"en_lines-ud-test.txt\", 1)"
      ],
      "metadata": {
        "id": "sGYdjQyfJTR_"
      },
      "execution_count": 9,
      "outputs": []
    },
    {
      "cell_type": "code",
      "source": [
        "nlp = spacy.load('en_core_web_sm')\n",
        "nlp.add_pipe('sentencizer')\n",
        "\n",
        "# tokenize and lemmatize the data and finally create x-y list\n",
        "def processing(my_data):\n",
        "  \n",
        "  tuples=[]\n",
        "  x = []\n",
        "  y = []\n",
        "  for sent in my_data.sents:\n",
        "    partial_tuple=[]\n",
        "    temp_x = []\n",
        "    temp_y = []\n",
        "    for token in sent:\n",
        "      if token.pos_:\n",
        "        temp_x.append(token.lemma_)\n",
        "        temp_y.append(token.pos_)\n",
        "        partial_tuple.append((token.lemma_, token.pos_))\n",
        "    tuples.append(partial_tuple)\n",
        "    x.append(temp_x)\n",
        "    y.append(temp_y)\n",
        "  return tuples, x, y\n",
        "\n",
        "train_tuples, x_train, y_train = processing(nlp(train_data))\n",
        "dev_tuples, x_dev, y_dev = processing(nlp(dev_data))\n",
        "test_tuples, x_test, y_test = processing(nlp(test_data))"
      ],
      "metadata": {
        "id": "q8VGbqmxJVbS"
      },
      "execution_count": 10,
      "outputs": []
    },
    {
      "cell_type": "markdown",
      "source": [
        "## Prepare the ground for BERT"
      ],
      "metadata": {
        "id": "9fQvBKp5JP9I"
      }
    },
    {
      "cell_type": "markdown",
      "source": [
        "### Preview Data"
      ],
      "metadata": {
        "id": "E4RBl9CUI3LN"
      }
    },
    {
      "cell_type": "code",
      "source": [
        "seq_len = [len(sentence) for sentence in x_train]\n",
        "#new = [val for sublist in new for val in sublist]\n",
        "pd.Series(seq_len).hist(bins=30)\n",
        "# max sequence length for each document/sentence sample\n",
        "max_length = 40"
      ],
      "metadata": {
        "colab": {
          "base_uri": "https://localhost:8080/",
          "height": 265
        },
        "id": "GzBzcOuKJakc",
        "outputId": "720fc738-db67-479e-e4d5-72f1f940b85a"
      },
      "execution_count": 11,
      "outputs": [
        {
          "output_type": "display_data",
          "data": {
            "text/plain": [
              "<Figure size 432x288 with 1 Axes>"
            ],
            "image/png": "[encoded data removed]"
          },
          "metadata": {
            "needs_background": "light"
          }
        }
      ]
    },
    {
      "cell_type": "markdown",
      "source": [
        "### Prepare the Data"
      ],
      "metadata": {
        "id": "mtxZOm2cI80H"
      }
    },
    {
      "cell_type": "code",
      "source": [
        "classes = ['ADJ', 'ADP', 'ADV', 'AUX', 'CCONJ', 'DET', 'INTJ', 'NOUN', 'NUM', 'PART', 'PRON', 'PROPN', 'PUNCT', 'SCONJ', 'SPACE', 'SYM', 'VERB', 'X']\n",
        "def enumerate_classes(classes):\n",
        "    class2id = {cls: idx for idx, cls in enumerate(classes)}\n",
        "    return class2id"
      ],
      "metadata": {
        "id": "SzpGXwLiJdG0"
      },
      "execution_count": 12,
      "outputs": []
    },
    {
      "cell_type": "code",
      "source": [
        "class2id = enumerate_classes(classes)\n",
        "y_train_encoded = [[class2id[tag] for tag in sentence] for sentence in y_train]\n",
        "y_dev_encoded = [[class2id[tag] for tag in sentence] for sentence in y_dev]\n",
        "y_test_encoded = [[class2id[tag] for tag in sentence] for sentence in y_test]"
      ],
      "metadata": {
        "id": "_v8G9IvJJeg-"
      },
      "execution_count": 13,
      "outputs": []
    },
    {
      "cell_type": "code",
      "source": [
        "def create_format(tokens_list, labels_list):\n",
        "    format = []\n",
        "    for i in range(len(tokens_list)):\n",
        "        my_dict = {'id': str(i), 'labels': labels_list[i], 'tokens': tokens_list[i]}\n",
        "        format.append(my_dict)\n",
        "    return format"
      ],
      "metadata": {
        "id": "2lgjnBGtJfeg"
      },
      "execution_count": 14,
      "outputs": []
    },
    {
      "cell_type": "code",
      "source": [
        "train_dataset = create_format(x_train, y_train_encoded)\n",
        "dev_dataset = create_format(x_dev, y_dev_encoded)\n",
        "test_dataset = create_format(x_test, y_test_encoded)"
      ],
      "metadata": {
        "id": "yN39HmAEJgox"
      },
      "execution_count": 15,
      "outputs": []
    },
    {
      "cell_type": "code",
      "source": [
        "df = pd.DataFrame(train_dataset)\n",
        "train_dataset = Dataset.from_pandas(df)\n",
        "df2 = pd.DataFrame(dev_dataset)\n",
        "dev_dataset = Dataset.from_pandas(df2)\n",
        "df3 = pd.DataFrame(test_dataset)\n",
        "test_dataset = Dataset.from_pandas(df3)"
      ],
      "metadata": {
        "id": "_GrwW8eRJiME"
      },
      "execution_count": 16,
      "outputs": []
    },
    {
      "cell_type": "code",
      "source": [
        "tokenizer_1 = AutoTokenizer.from_pretrained(\"distilbert-base-uncased\")"
      ],
      "metadata": {
        "id": "56Ez20mNJjcm"
      },
      "execution_count": 17,
      "outputs": []
    },
    {
      "cell_type": "code",
      "source": [
        "# Train Data\n",
        "x_train_upd = []\n",
        "for i in range(len(x_train)):\n",
        "    tokenized_input_train = tokenizer_1(train_dataset[i][\"tokens\"], truncation = True, is_split_into_words=True, padding=True, max_length = max_length)\n",
        "    tokens = tokenizer_1.convert_ids_to_tokens(tokenized_input_train[\"input_ids\"])\n",
        "    x_train_upd.append(tokens)\n",
        "\n",
        "# Dev Data\n",
        "x_dev_upd = []\n",
        "for i in range(len(x_dev)):\n",
        "    tokenized_input_dev = tokenizer_1(dev_dataset[i][\"tokens\"], truncation = True, is_split_into_words=True, padding=True, max_length = max_length)\n",
        "    tokens = tokenizer_1.convert_ids_to_tokens(tokenized_input_dev[\"input_ids\"])\n",
        "    x_dev_upd.append(tokens)\n",
        "\n",
        "# Test Data\n",
        "x_test_upd = []\n",
        "for i in range(len(x_test)):\n",
        "    tokenized_input_test = tokenizer_1(test_dataset[i][\"tokens\"], truncation = True, is_split_into_words=True, padding=True, max_length = max_length)\n",
        "    tokens = tokenizer_1.convert_ids_to_tokens(tokenized_input_test[\"input_ids\"])\n",
        "    x_test_upd.append(tokens)"
      ],
      "metadata": {
        "id": "6k-4tna3JkZV"
      },
      "execution_count": 18,
      "outputs": []
    },
    {
      "cell_type": "code",
      "source": [
        "def tokenize_and_align_labels(examples):\n",
        "    tokenized_inputs = tokenizer_1(examples[\"tokens\"], truncation=True, is_split_into_words=True, padding=True, max_length = max_length)\n",
        "\n",
        "    labels = []\n",
        "    for i, label in enumerate(examples[f\"labels\"]):\n",
        "        word_ids = tokenized_inputs.word_ids(batch_index=i)  # Map tokens to their respective word.\n",
        "        previous_word_idx = None\n",
        "        label_ids = []\n",
        "        for word_idx in word_ids:  # Set the special tokens to -100.\n",
        "            if word_idx is None:\n",
        "                label_ids.append(-100)\n",
        "            elif word_idx != previous_word_idx:  # Only label the first token of a given word.\n",
        "                label_ids.append(label[word_idx])\n",
        "            else:\n",
        "                label_ids.append(-100)\n",
        "            previous_word_idx = word_idx\n",
        "        labels.append(label_ids)\n",
        "\n",
        "    tokenized_inputs[\"labels\"] = labels\n",
        "    return tokenized_inputs"
      ],
      "metadata": {
        "id": "lIu3dD4NJljD"
      },
      "execution_count": 19,
      "outputs": []
    },
    {
      "cell_type": "code",
      "source": [
        "tokenized_train = train_dataset.map(tokenize_and_align_labels, batched=True)\n",
        "tokenized_dev = dev_dataset.map(tokenize_and_align_labels, batched=True)\n",
        "tokenized_test = test_dataset.map(tokenize_and_align_labels, batched=True)"
      ],
      "metadata": {
        "colab": {
          "base_uri": "https://localhost:8080/",
          "height": 17,
          "referenced_widgets": [
            "2443a565c134430fb9d44acc2260b7d6",
            "fb5328190cfe43a6b787b3a9aa8311ec",
            "ce0c7c6a7c9543fcac2c64703ad41a37",
            "083f9915e9364e639a0a2d5312753858",
            "4f8e65f943a04abeaca452f1c951a42a",
            "40240c8a4e8f4bb09d857201ccbced21",
            "e1766c703467453e896ac266b3261ac6",
            "4b393a24676a4ec79333afdcfa39a0dc",
            "26f1440cfa8f4a7f99597d7b19f517f3",
            "a2c377d7030941cbaa43d688ec9be5c7",
            "dd21444230bf43ec87d9e4572ae77377",
            "8ecf937416e8442ca7ed62891a7544ff",
            "6b99ee6e87344d02a14e534329386887",
            "abeee458df264b0c944cf33d9e52f006",
            "3b57887bd77a422a80587957d42fa579",
            "177a273035084470b1a8ca669eb148bb",
            "d0237d95752a48b8b0481129ffda1eb0",
            "86ee02ad14b84c0baba9cfecb04d35b1",
            "f4c812423d6b4aa4abadf562d945cd39",
            "fc47234bd5564107b3afe4c3943c8c4b",
            "49c041b3c1d045bbb42ebcd77236a6e9",
            "5c15b22a8a6e4a24a8b907799508b565",
            "0a4a0ad33e2046179ccfbf530a37655b",
            "6e3c239de507490ab5a7e6e22bda4032",
            "1dc1a38668c3471da293b9d258c0c9a0",
            "20f0466572384d64b8a1b94f71e7b4d6",
            "4e88b1dd6d774fb1899eac9d3273a0ac",
            "7af4cd3b889c43e1a85691491a443b12",
            "5707a991f59f4ca3bca709f4853779f9",
            "e2f818ea68d6497cbae06d7001f3f493",
            "ed1393b918364a2182e06ee4c4b2e59c",
            "5b518a1e527b4a8d8bcc4ba0a48a0f63",
            "f0eda7489a3847329abbe7b78dedf1f1"
          ]
        },
        "id": "K7xztECFJmlQ",
        "outputId": "2ad01ead-b27c-4c40-980a-85e4c26fbdb4"
      },
      "execution_count": 20,
      "outputs": [
        {
          "output_type": "display_data",
          "data": {
            "text/plain": [
              "Map:   0%|          | 0/3085 [00:00<?, ? examples/s]"
            ],
            "application/vnd.jupyter.widget-view+json": {
              "version_major": 2,
              "version_minor": 0,
              "model_id": "2443a565c134430fb9d44acc2260b7d6"
            }
          },
          "metadata": {}
        },
        {
          "output_type": "display_data",
          "data": {
            "text/plain": [
              "Map:   0%|          | 0/1045 [00:00<?, ? examples/s]"
            ],
            "application/vnd.jupyter.widget-view+json": {
              "version_major": 2,
              "version_minor": 0,
              "model_id": "8ecf937416e8442ca7ed62891a7544ff"
            }
          },
          "metadata": {}
        },
        {
          "output_type": "display_data",
          "data": {
            "text/plain": [
              "Map:   0%|          | 0/1018 [00:00<?, ? examples/s]"
            ],
            "application/vnd.jupyter.widget-view+json": {
              "version_major": 2,
              "version_minor": 0,
              "model_id": "0a4a0ad33e2046179ccfbf530a37655b"
            }
          },
          "metadata": {}
        }
      ]
    },
    {
      "cell_type": "code",
      "source": [
        "data_collator = DataCollatorForTokenClassification(tokenizer=tokenizer_1)"
      ],
      "metadata": {
        "id": "nwziFaYTJnmL"
      },
      "execution_count": 21,
      "outputs": []
    },
    {
      "cell_type": "code",
      "source": [
        "seqeval = evaluate.load(\"seqeval\")"
      ],
      "metadata": {
        "id": "wzzJ-ui-Joe5"
      },
      "execution_count": 22,
      "outputs": []
    },
    {
      "cell_type": "code",
      "source": [
        "def compute_metrics(p):\n",
        "    predictions, labels = p\n",
        "    predictions = np.argmax(predictions, axis=2)\n",
        "\n",
        "    true_predictions = [\n",
        "        [classes[p] for (p, l) in zip(prediction, label) if l != -100]\n",
        "        for prediction, label in zip(predictions, labels)\n",
        "    ]\n",
        "    true_labels = [\n",
        "        [classes[l] for (p, l) in zip(prediction, label) if l != -100]\n",
        "        for prediction, label in zip(predictions, labels)\n",
        "    ]\n",
        "\n",
        "    results = seqeval.compute(predictions=true_predictions, references=true_labels)\n",
        "    \n",
        "    return {\n",
        "        \"precision\": results[\"overall_precision\"],\n",
        "        \"recall\": results[\"overall_recall\"],\n",
        "        \"f1\": results[\"overall_f1\"],\n",
        "        \"accuracy\": results[\"overall_accuracy\"]\n",
        "    }"
      ],
      "metadata": {
        "id": "0PWNVgVwJpYo"
      },
      "execution_count": 23,
      "outputs": []
    },
    {
      "cell_type": "code",
      "source": [
        "tag2id = {tag: id for id, tag in enumerate(classes)}\n",
        "id2tag = {id: tag for tag, id in tag2id.items()}"
      ],
      "metadata": {
        "id": "Z2K24jINJqld"
      },
      "execution_count": 24,
      "outputs": []
    },
    {
      "cell_type": "code",
      "source": [
        "access_token = \"hf_...\"\n",
        "model = AutoModelForTokenClassification.from_pretrained(\"distilbert-base-uncased\", num_labels=len(classes), id2label=id2tag, label2id=tag2id, use_auth_token=access_token)"
      ],
      "metadata": {
        "colab": {
          "base_uri": "https://localhost:8080/"
        },
        "id": "iE9tLe3lJrZV",
        "outputId": "89e7160f-5020-4ce3-8e98-b1bb4bc2c978"
      },
      "execution_count": 25,
      "outputs": [
        {
          "output_type": "stream",
          "name": "stderr",
          "text": [
            "Some weights of the model checkpoint at distilbert-base-uncased were not used when initializing DistilBertForTokenClassification: ['vocab_projector.weight', 'vocab_layer_norm.bias', 'vocab_transform.weight', 'vocab_transform.bias', 'vocab_projector.bias', 'vocab_layer_norm.weight']\n",
            "- This IS expected if you are initializing DistilBertForTokenClassification from the checkpoint of a model trained on another task or with another architecture (e.g. initializing a BertForSequenceClassification model from a BertForPreTraining model).\n",
            "- This IS NOT expected if you are initializing DistilBertForTokenClassification from the checkpoint of a model that you expect to be exactly identical (initializing a BertForSequenceClassification model from a BertForSequenceClassification model).\n",
            "Some weights of DistilBertForTokenClassification were not initialized from the model checkpoint at distilbert-base-uncased and are newly initialized: ['classifier.bias', 'classifier.weight']\n",
            "You should probably TRAIN this model on a down-stream task to be able to use it for predictions and inference.\n"
          ]
        }
      ]
    },
    {
      "cell_type": "markdown",
      "source": [
        "## BERT"
      ],
      "metadata": {
        "id": "t6QjOewXJJaR"
      }
    },
    {
      "cell_type": "code",
      "source": [
        "wandb.init(\n",
        "    # set the wandb project where this run will be logged\n",
        "    project=\"Bert_1\",\n",
        "    \n",
        "    # track hyperparameters and run metadata\n",
        "    config={\n",
        "    \"learning_rate\": 0.02,\n",
        "    \"architecture\": \"CNN\",\n",
        "    \"dataset\": \"CIFAR-100\",\n",
        "    \"epochs\": 10,\n",
        "    }\n",
        ")"
      ],
      "metadata": {
        "colab": {
          "base_uri": "https://localhost:8080/",
          "height": 160
        },
        "id": "kdnPgzvSJtmV",
        "outputId": "d9233c51-a7b3-4d72-ca40-4476b5f002fa"
      },
      "execution_count": 26,
      "outputs": [
        {
          "output_type": "stream",
          "name": "stderr",
          "text": [
            "\u001b[34m\u001b[1mwandb\u001b[0m: \u001b[33mWARNING\u001b[0m WANDB_NOTEBOOK_NAME should be a path to a notebook file, couldn't find \"/content/POS-Tagging-Part-4\".\n",
            "\u001b[34m\u001b[1mwandb\u001b[0m: Currently logged in as: \u001b[33mkarageorgisplatonas\u001b[0m (\u001b[33mnlp-squad\u001b[0m). Use \u001b[1m`wandb login --relogin`\u001b[0m to force relogin\n"
          ]
        },
        {
          "output_type": "display_data",
          "data": {
            "text/plain": [
              "<IPython.core.display.HTML object>"
            ],
            "text/html": [
              "Tracking run with wandb version 0.13.10"
            ]
          },
          "metadata": {}
        },
        {
          "output_type": "display_data",
          "data": {
            "text/plain": [
              "<IPython.core.display.HTML object>"
            ],
            "text/html": [
              "Run data is saved locally in <code>/content/POS-Tagging/wandb/run-20230222_200206-959dsohe</code>"
            ]
          },
          "metadata": {}
        },
        {
          "output_type": "display_data",
          "data": {
            "text/plain": [
              "<IPython.core.display.HTML object>"
            ],
            "text/html": [
              "Syncing run <strong><a href='https://wandb.ai/nlp-squad/Bert_1/runs/959dsohe' target=\"_blank\">true-water-6</a></strong> to <a href='https://wandb.ai/nlp-squad/Bert_1' target=\"_blank\">Weights & Biases</a> (<a href='https://wandb.me/run' target=\"_blank\">docs</a>)<br/>"
            ]
          },
          "metadata": {}
        },
        {
          "output_type": "display_data",
          "data": {
            "text/plain": [
              "<IPython.core.display.HTML object>"
            ],
            "text/html": [
              " View project at <a href='https://wandb.ai/nlp-squad/Bert_1' target=\"_blank\">https://wandb.ai/nlp-squad/Bert_1</a>"
            ]
          },
          "metadata": {}
        },
        {
          "output_type": "display_data",
          "data": {
            "text/plain": [
              "<IPython.core.display.HTML object>"
            ],
            "text/html": [
              " View run at <a href='https://wandb.ai/nlp-squad/Bert_1/runs/959dsohe' target=\"_blank\">https://wandb.ai/nlp-squad/Bert_1/runs/959dsohe</a>"
            ]
          },
          "metadata": {}
        },
        {
          "output_type": "execute_result",
          "data": {
            "text/html": [
              "<button onClick=\"this.nextSibling.style.display='block';this.style.display='none';\">Display W&B run</button><iframe src='https://wandb.ai/nlp-squad/Bert_1/runs/959dsohe?jupyter=true' style='border:none;width:100%;height:420px;display:none;'></iframe>"
            ],
            "text/plain": [
              "<wandb.sdk.wandb_run.Run at 0x7f8ac706b9d0>"
            ]
          },
          "metadata": {},
          "execution_count": 26
        }
      ]
    },
    {
      "cell_type": "code",
      "source": [
        "%%wandb\n",
        "warnings.filterwarnings(\"ignore\")\n",
        "with tf.device('/device:GPU:0'):\n",
        "  training_args = TrainingArguments(\n",
        "      report_to=\"wandb\",\n",
        "      output_dir=\"pos_tag_bert\",\n",
        "      learning_rate=2e-5,\n",
        "      per_device_train_batch_size=16,\n",
        "      per_device_eval_batch_size=16,\n",
        "      num_train_epochs=5,\n",
        "      warmup_steps = 200,\n",
        "      weight_decay=0.01,\n",
        "      evaluation_strategy=\"epoch\",\n",
        "      save_strategy=\"epoch\",\n",
        "      load_best_model_at_end=True,\n",
        "      hub_token = access_token,\n",
        "      push_to_hub=False,\n",
        "  )\n",
        "\n",
        "  trainer = Trainer(\n",
        "      model=model,\n",
        "      args=training_args,\n",
        "      train_dataset=tokenized_train,\n",
        "      eval_dataset= tokenized_dev,\n",
        "      tokenizer=tokenizer_1,\n",
        "      data_collator=data_collator,\n",
        "      compute_metrics=compute_metrics,\n",
        "  )\n",
        "\n",
        "  trainer.train()"
      ],
      "metadata": {
        "colab": {
          "base_uri": "https://localhost:8080/",
          "height": 1000
        },
        "id": "UNp_ubSHJuvT",
        "outputId": "89ef6b38-18a8-4721-979f-79319ab747f9"
      },
      "execution_count": 27,
      "outputs": [
        {
          "output_type": "display_data",
          "data": {
            "text/plain": [
              "<wandb.jupyter.IFrame at 0x7f8ac731da60>"
            ],
            "text/html": [
              "<iframe src='https://wandb.ai/nlp-squad/Bert_1/runs/959dsohe?jupyter=true' style='border:none;width:100%;height:420px;'></iframe>"
            ]
          },
          "metadata": {}
        },
        {
          "output_type": "stream",
          "name": "stderr",
          "text": [
            "Setting `WANDB_LOG_MODEL` from true to `end` instead\n",
            "The following columns in the training set don't have a corresponding argument in `DistilBertForTokenClassification.forward` and have been ignored: tokens, id. If tokens, id are not expected by `DistilBertForTokenClassification.forward`,  you can safely ignore this message.\n",
            "***** Running training *****\n",
            "  Num examples = 3085\n",
            "  Num Epochs = 5\n",
            "  Instantaneous batch size per device = 16\n",
            "  Total train batch size (w. parallel, distributed & accumulation) = 16\n",
            "  Gradient Accumulation steps = 1\n",
            "  Total optimization steps = 965\n",
            "  Number of trainable parameters = 66376722\n",
            "Automatic Weights & Biases logging enabled, to disable set os.environ[\"WANDB_DISABLED\"] = \"true\"\n",
            "You're using a DistilBertTokenizerFast tokenizer. Please note that with a fast tokenizer, using the `__call__` method is faster than using a method to encode the text followed by a call to the `pad` method to get a padded encoding.\n"
          ]
        },
        {
          "output_type": "display_data",
          "data": {
            "text/plain": [
              "<IPython.core.display.HTML object>"
            ],
            "text/html": [
              "\n",
              "    <div>\n",
              "      \n",
              "      <progress value='965' max='965' style='width:300px; height:20px; vertical-align: middle;'></progress>\n",
              "      [965/965 01:44, Epoch 5/5]\n",
              "    </div>\n",
              "    <table border=\"1\" class=\"dataframe\">\n",
              "  <thead>\n",
              " <tr style=\"text-align: left;\">\n",
              "      <th>Epoch</th>\n",
              "      <th>Training Loss</th>\n",
              "      <th>Validation Loss</th>\n",
              "      <th>Precision</th>\n",
              "      <th>Recall</th>\n",
              "      <th>F1</th>\n",
              "      <th>Accuracy</th>\n",
              "    </tr>\n",
              "  </thead>\n",
              "  <tbody>\n",
              "    <tr>\n",
              "      <td>1</td>\n",
              "      <td>No log</td>\n",
              "      <td>0.261273</td>\n",
              "      <td>0.918539</td>\n",
              "      <td>0.919562</td>\n",
              "      <td>0.919050</td>\n",
              "      <td>0.930004</td>\n",
              "    </tr>\n",
              "    <tr>\n",
              "      <td>2</td>\n",
              "      <td>No log</td>\n",
              "      <td>0.155711</td>\n",
              "      <td>0.948338</td>\n",
              "      <td>0.949616</td>\n",
              "      <td>0.948977</td>\n",
              "      <td>0.955941</td>\n",
              "    </tr>\n",
              "    <tr>\n",
              "      <td>3</td>\n",
              "      <td>0.760900</td>\n",
              "      <td>0.143360</td>\n",
              "      <td>0.949696</td>\n",
              "      <td>0.951198</td>\n",
              "      <td>0.950446</td>\n",
              "      <td>0.957548</td>\n",
              "    </tr>\n",
              "    <tr>\n",
              "      <td>4</td>\n",
              "      <td>0.760900</td>\n",
              "      <td>0.144218</td>\n",
              "      <td>0.951966</td>\n",
              "      <td>0.953249</td>\n",
              "      <td>0.952607</td>\n",
              "      <td>0.959543</td>\n",
              "    </tr>\n",
              "    <tr>\n",
              "      <td>5</td>\n",
              "      <td>0.760900</td>\n",
              "      <td>0.144994</td>\n",
              "      <td>0.954034</td>\n",
              "      <td>0.954537</td>\n",
              "      <td>0.954286</td>\n",
              "      <td>0.960763</td>\n",
              "    </tr>\n",
              "  </tbody>\n",
              "</table><p>"
            ]
          },
          "metadata": {}
        },
        {
          "output_type": "stream",
          "name": "stderr",
          "text": [
            "The following columns in the evaluation set don't have a corresponding argument in `DistilBertForTokenClassification.forward` and have been ignored: tokens, id. If tokens, id are not expected by `DistilBertForTokenClassification.forward`,  you can safely ignore this message.\n",
            "***** Running Evaluation *****\n",
            "  Num examples = 1045\n",
            "  Batch size = 16\n",
            "Saving model checkpoint to pos_tag_bert/checkpoint-193\n",
            "Configuration saved in pos_tag_bert/checkpoint-193/config.json\n",
            "Model weights saved in pos_tag_bert/checkpoint-193/pytorch_model.bin\n",
            "tokenizer config file saved in pos_tag_bert/checkpoint-193/tokenizer_config.json\n",
            "Special tokens file saved in pos_tag_bert/checkpoint-193/special_tokens_map.json\n",
            "The following columns in the evaluation set don't have a corresponding argument in `DistilBertForTokenClassification.forward` and have been ignored: tokens, id. If tokens, id are not expected by `DistilBertForTokenClassification.forward`,  you can safely ignore this message.\n",
            "***** Running Evaluation *****\n",
            "  Num examples = 1045\n",
            "  Batch size = 16\n",
            "Saving model checkpoint to pos_tag_bert/checkpoint-386\n",
            "Configuration saved in pos_tag_bert/checkpoint-386/config.json\n",
            "Model weights saved in pos_tag_bert/checkpoint-386/pytorch_model.bin\n",
            "tokenizer config file saved in pos_tag_bert/checkpoint-386/tokenizer_config.json\n",
            "Special tokens file saved in pos_tag_bert/checkpoint-386/special_tokens_map.json\n",
            "The following columns in the evaluation set don't have a corresponding argument in `DistilBertForTokenClassification.forward` and have been ignored: tokens, id. If tokens, id are not expected by `DistilBertForTokenClassification.forward`,  you can safely ignore this message.\n",
            "***** Running Evaluation *****\n",
            "  Num examples = 1045\n",
            "  Batch size = 16\n",
            "Saving model checkpoint to pos_tag_bert/checkpoint-579\n",
            "Configuration saved in pos_tag_bert/checkpoint-579/config.json\n",
            "Model weights saved in pos_tag_bert/checkpoint-579/pytorch_model.bin\n",
            "tokenizer config file saved in pos_tag_bert/checkpoint-579/tokenizer_config.json\n",
            "Special tokens file saved in pos_tag_bert/checkpoint-579/special_tokens_map.json\n",
            "The following columns in the evaluation set don't have a corresponding argument in `DistilBertForTokenClassification.forward` and have been ignored: tokens, id. If tokens, id are not expected by `DistilBertForTokenClassification.forward`,  you can safely ignore this message.\n",
            "***** Running Evaluation *****\n",
            "  Num examples = 1045\n",
            "  Batch size = 16\n",
            "Saving model checkpoint to pos_tag_bert/checkpoint-772\n",
            "Configuration saved in pos_tag_bert/checkpoint-772/config.json\n",
            "Model weights saved in pos_tag_bert/checkpoint-772/pytorch_model.bin\n",
            "tokenizer config file saved in pos_tag_bert/checkpoint-772/tokenizer_config.json\n",
            "Special tokens file saved in pos_tag_bert/checkpoint-772/special_tokens_map.json\n",
            "The following columns in the evaluation set don't have a corresponding argument in `DistilBertForTokenClassification.forward` and have been ignored: tokens, id. If tokens, id are not expected by `DistilBertForTokenClassification.forward`,  you can safely ignore this message.\n",
            "***** Running Evaluation *****\n",
            "  Num examples = 1045\n",
            "  Batch size = 16\n",
            "Saving model checkpoint to pos_tag_bert/checkpoint-965\n",
            "Configuration saved in pos_tag_bert/checkpoint-965/config.json\n",
            "Model weights saved in pos_tag_bert/checkpoint-965/pytorch_model.bin\n",
            "tokenizer config file saved in pos_tag_bert/checkpoint-965/tokenizer_config.json\n",
            "Special tokens file saved in pos_tag_bert/checkpoint-965/special_tokens_map.json\n",
            "\n",
            "\n",
            "Training completed. Do not forget to share your model on huggingface.co/models =)\n",
            "\n",
            "\n",
            "Loading best model from pos_tag_bert/checkpoint-579 (score: 0.1433599442243576).\n",
            "Setting `WANDB_LOG_MODEL` from true to `end` instead\n",
            "Saving model checkpoint to /tmp/tmpgj0_91f_\n",
            "Configuration saved in /tmp/tmpgj0_91f_/config.json\n",
            "Model weights saved in /tmp/tmpgj0_91f_/pytorch_model.bin\n",
            "tokenizer config file saved in /tmp/tmpgj0_91f_/tokenizer_config.json\n",
            "Special tokens file saved in /tmp/tmpgj0_91f_/special_tokens_map.json\n",
            "Logging model artifacts. ...\n"
          ]
        }
      ]
    },
    {
      "cell_type": "markdown",
      "source": [
        "### Evaluate and Save Model "
      ],
      "metadata": {
        "id": "yRVTcCp-JZ18"
      }
    },
    {
      "cell_type": "code",
      "source": [
        "warnings.filterwarnings(\"ignore\")\n",
        "# Evaluate the current model after training\n",
        "trainer.evaluate()\n",
        "\n",
        "# Save the fine-tuned model and the tokenizer\n",
        "model_path = \"pos-tag-bert-uncased\"\n",
        "model.save_pretrained(model_path)\n",
        "tokenizer_1.save_pretrained(model_path)"
      ],
      "metadata": {
        "colab": {
          "base_uri": "https://localhost:8080/",
          "height": 283
        },
        "id": "i5gYb96kJxvq",
        "outputId": "5b447a78-f963-4117-a2df-44d9e5729810"
      },
      "execution_count": 28,
      "outputs": [
        {
          "output_type": "stream",
          "name": "stderr",
          "text": [
            "The following columns in the evaluation set don't have a corresponding argument in `DistilBertForTokenClassification.forward` and have been ignored: tokens, id. If tokens, id are not expected by `DistilBertForTokenClassification.forward`,  you can safely ignore this message.\n",
            "***** Running Evaluation *****\n",
            "  Num examples = 1045\n",
            "  Batch size = 16\n"
          ]
        },
        {
          "output_type": "display_data",
          "data": {
            "text/plain": [
              "<IPython.core.display.HTML object>"
            ],
            "text/html": [
              "\n",
              "    <div>\n",
              "      \n",
              "      <progress value='66' max='66' style='width:300px; height:20px; vertical-align: middle;'></progress>\n",
              "      [66/66 00:01]\n",
              "    </div>\n",
              "    "
            ]
          },
          "metadata": {}
        },
        {
          "output_type": "stream",
          "name": "stderr",
          "text": [
            "Configuration saved in pos-tag-bert-uncased/config.json\n",
            "Model weights saved in pos-tag-bert-uncased/pytorch_model.bin\n",
            "tokenizer config file saved in pos-tag-bert-uncased/tokenizer_config.json\n",
            "Special tokens file saved in pos-tag-bert-uncased/special_tokens_map.json\n"
          ]
        },
        {
          "output_type": "execute_result",
          "data": {
            "text/plain": [
              "('pos-tag-bert-uncased/tokenizer_config.json',\n",
              " 'pos-tag-bert-uncased/special_tokens_map.json',\n",
              " 'pos-tag-bert-uncased/vocab.txt',\n",
              " 'pos-tag-bert-uncased/added_tokens.json',\n",
              " 'pos-tag-bert-uncased/tokenizer.json')"
            ]
          },
          "metadata": {},
          "execution_count": 28
        }
      ]
    },
    {
      "cell_type": "markdown",
      "source": [
        "### Load Model"
      ],
      "metadata": {
        "id": "Cxse5gFqtK4v"
      }
    },
    {
      "cell_type": "code",
      "source": [
        "# Load model and tokenizer\n",
        "model = AutoModelForTokenClassification.from_pretrained(model_path, num_labels=len(classes))\n",
        "tokenizer_2 = AutoTokenizer.from_pretrained(model_path)"
      ],
      "metadata": {
        "colab": {
          "base_uri": "https://localhost:8080/"
        },
        "id": "jC-SZinttMam",
        "outputId": "0106fa8b-ba64-4b80-c528-bc82e3c488fc"
      },
      "execution_count": 29,
      "outputs": [
        {
          "output_type": "stream",
          "name": "stderr",
          "text": [
            "loading configuration file pos-tag-bert-uncased/config.json\n",
            "Model config DistilBertConfig {\n",
            "  \"_name_or_path\": \"pos-tag-bert-uncased\",\n",
            "  \"activation\": \"gelu\",\n",
            "  \"architectures\": [\n",
            "    \"DistilBertForTokenClassification\"\n",
            "  ],\n",
            "  \"attention_dropout\": 0.1,\n",
            "  \"dim\": 768,\n",
            "  \"dropout\": 0.1,\n",
            "  \"hidden_dim\": 3072,\n",
            "  \"id2label\": {\n",
            "    \"0\": \"ADJ\",\n",
            "    \"1\": \"ADP\",\n",
            "    \"2\": \"ADV\",\n",
            "    \"3\": \"AUX\",\n",
            "    \"4\": \"CCONJ\",\n",
            "    \"5\": \"DET\",\n",
            "    \"6\": \"INTJ\",\n",
            "    \"7\": \"NOUN\",\n",
            "    \"8\": \"NUM\",\n",
            "    \"9\": \"PART\",\n",
            "    \"10\": \"PRON\",\n",
            "    \"11\": \"PROPN\",\n",
            "    \"12\": \"PUNCT\",\n",
            "    \"13\": \"SCONJ\",\n",
            "    \"14\": \"SPACE\",\n",
            "    \"15\": \"SYM\",\n",
            "    \"16\": \"VERB\",\n",
            "    \"17\": \"X\"\n",
            "  },\n",
            "  \"initializer_range\": 0.02,\n",
            "  \"label2id\": {\n",
            "    \"ADJ\": 0,\n",
            "    \"ADP\": 1,\n",
            "    \"ADV\": 2,\n",
            "    \"AUX\": 3,\n",
            "    \"CCONJ\": 4,\n",
            "    \"DET\": 5,\n",
            "    \"INTJ\": 6,\n",
            "    \"NOUN\": 7,\n",
            "    \"NUM\": 8,\n",
            "    \"PART\": 9,\n",
            "    \"PRON\": 10,\n",
            "    \"PROPN\": 11,\n",
            "    \"PUNCT\": 12,\n",
            "    \"SCONJ\": 13,\n",
            "    \"SPACE\": 14,\n",
            "    \"SYM\": 15,\n",
            "    \"VERB\": 16,\n",
            "    \"X\": 17\n",
            "  },\n",
            "  \"max_position_embeddings\": 512,\n",
            "  \"model_type\": \"distilbert\",\n",
            "  \"n_heads\": 12,\n",
            "  \"n_layers\": 6,\n",
            "  \"pad_token_id\": 0,\n",
            "  \"qa_dropout\": 0.1,\n",
            "  \"seq_classif_dropout\": 0.2,\n",
            "  \"sinusoidal_pos_embds\": false,\n",
            "  \"tie_weights_\": true,\n",
            "  \"torch_dtype\": \"float32\",\n",
            "  \"transformers_version\": \"4.26.1\",\n",
            "  \"vocab_size\": 30522\n",
            "}\n",
            "\n",
            "loading weights file pos-tag-bert-uncased/pytorch_model.bin\n",
            "All model checkpoint weights were used when initializing DistilBertForTokenClassification.\n",
            "\n",
            "All the weights of DistilBertForTokenClassification were initialized from the model checkpoint at pos-tag-bert-uncased.\n",
            "If your task is similar to the task the model of the checkpoint was trained on, you can already use DistilBertForTokenClassification for predictions without further training.\n",
            "loading file vocab.txt\n",
            "loading file tokenizer.json\n",
            "loading file added_tokens.json\n",
            "loading file special_tokens_map.json\n",
            "loading file tokenizer_config.json\n"
          ]
        }
      ]
    },
    {
      "cell_type": "markdown",
      "source": [
        "### Model Assessment"
      ],
      "metadata": {
        "id": "kUmjry3aJrrb"
      }
    },
    {
      "cell_type": "code",
      "source": [
        "def get_prediction(text):\n",
        "    text = ' '.join(text)\n",
        "    # prepare our text into tokenized sequence\n",
        "    inputs = tokenizer_2(text, padding=True, truncation=True, max_length=max_length, return_tensors=\"pt\")\n",
        "    # perform inference to our model\n",
        "    outputs = model(**inputs)\n",
        "    # get output probabilities by doing softmax\n",
        "    # for each document, for each word in the document\n",
        "    probs = outputs[0][0].softmax(1)\n",
        "    # executing argmax function to get the candidate tags \n",
        "    # list of tuples: (word(decoded from its id), tag(from index to tag))\n",
        "    words_n_tags = [(tokenizer_2.decode(inputs['input_ids'][0][i].item()), id2tag[tag_id.item()]) \n",
        "                  for i, tag_id in enumerate (probs.argmax(axis=1))]\n",
        "    tags = [tag for word, tag in words_n_tags]\n",
        "    words = [word for word, tag in words_n_tags]\n",
        "    tags = tags[1:-1]\n",
        "    words = words[1:-1]\n",
        "    return tags, words"
      ],
      "metadata": {
        "id": "8s9_ydB3J0-C"
      },
      "execution_count": 30,
      "outputs": []
    },
    {
      "cell_type": "code",
      "source": [
        "with tf.device('/device:GPU:0'):\n",
        "  def predictions(x_test):\n",
        "    y_pred = []\n",
        "    x_pred = []\n",
        "    for sentence in x_test:\n",
        "      tags, words = get_prediction(sentence)\n",
        "      y_pred.append(tags)\n",
        "      x_pred.append(words)\n",
        "    return y_pred, x_pred\n",
        "\n",
        "  y_pred_train, x_pred_train = predictions(x_train)\n",
        "  y_pred_dev, x_pred_dev = predictions(x_dev)\n",
        "  y_pred_test, x_pred_test = predictions(x_test)"
      ],
      "metadata": {
        "id": "PJ2ifI5IJ3A6"
      },
      "execution_count": 31,
      "outputs": []
    },
    {
      "cell_type": "code",
      "source": [
        "# We can see that y_true and y_pred are not alligned so we need to fix that\n",
        "x_pred_train_f= [word for sentence in x_pred_train for word in sentence]\n",
        "print(len(x_pred_train_f))\n",
        "x_true_train_f= [word for sentence in x_train_upd for word in sentence]\n",
        "print(len(x_true_train_f))"
      ],
      "metadata": {
        "colab": {
          "base_uri": "https://localhost:8080/"
        },
        "id": "vjf6Qt9FJ4AU",
        "outputId": "98b19838-42f2-4e97-be60-a6f30b8bf6ac"
      },
      "execution_count": 32,
      "outputs": [
        {
          "output_type": "stream",
          "name": "stdout",
          "text": [
            "57831\n",
            "64001\n"
          ]
        }
      ]
    },
    {
      "cell_type": "code",
      "source": [
        "# Remove [CLS], [SEP]\n",
        "def removeValues(x, y):\n",
        "  new_x = []\n",
        "  new_y = []\n",
        "  counter = 0\n",
        "  for sentence in x:\n",
        "    temp = []\n",
        "    temp2 = []\n",
        "    ins_counter = 0\n",
        "    for word in sentence:\n",
        "      if word == '[CLS]':\n",
        "        ins_counter += 1\n",
        "        continue\n",
        "      elif word == '[SEP]':\n",
        "        ins_counter += 1\n",
        "        continue\n",
        "      else:\n",
        "        temp.append(y[counter][ins_counter])\n",
        "        temp2.append(word)\n",
        "        ins_counter += 1\n",
        "    counter +=1\n",
        "    new_y.append(temp)\n",
        "    new_x.append(temp2)\n",
        "  return new_y, new_x\n",
        "\n",
        "# If you see -100 then replace it with the previous value since it is separated\n",
        "def correctValues(y):\n",
        "  count = 0\n",
        "  for i in y:\n",
        "    if i == -100:\n",
        "      y[count] = y[count-1]\n",
        "    count += 1\n",
        "  return y"
      ],
      "metadata": {
        "id": "X5iCrvcQJ46m"
      },
      "execution_count": 33,
      "outputs": []
    },
    {
      "cell_type": "code",
      "source": [
        "# Prepare y_true\n",
        "y_true_train, x_train_f = removeValues(x_train_upd, tokenized_train[\"labels\"])\n",
        "x_train_final = [word for sentence in x_train_f for word in sentence]\n",
        "y_true_train_f = [word for sentence in y_true_train for word in sentence]\n",
        "y_true_train_final = correctValues(y_true_train_f)\n",
        "print(\"True train values: \", len(y_true_train_f))\n",
        "\n",
        "y_true_dev, x_dev_f = removeValues(x_dev_upd, tokenized_dev[\"labels\"])\n",
        "x_dev_final = [word for sentence in x_dev_f for word in sentence]\n",
        "y_true_dev_f = [word for sentence in y_true_dev for word in sentence]\n",
        "y_true_dev_final = correctValues(y_true_dev_f)\n",
        "print(\"True dev values: \", len(y_true_dev_f))\n",
        "\n",
        "y_true_test, x_test_f = removeValues(x_test_upd, tokenized_test[\"labels\"])\n",
        "x_test_final = [word for sentence in x_test_f for word in sentence]\n",
        "y_true_test_f = [word for sentence in y_true_test for word in sentence]\n",
        "y_true_test_final = correctValues(y_true_test_f)\n",
        "print(\"True test values: \", len(y_true_test_f))"
      ],
      "metadata": {
        "colab": {
          "base_uri": "https://localhost:8080/"
        },
        "id": "zzLH1kVpXUOA",
        "outputId": "608460d1-f6b6-486c-e817-5cecd499b743"
      },
      "execution_count": 34,
      "outputs": [
        {
          "output_type": "stream",
          "name": "stdout",
          "text": [
            "True train values:  57831\n",
            "True dev values:  19254\n",
            "True test values:  18188\n"
          ]
        }
      ]
    },
    {
      "cell_type": "code",
      "source": [
        "# Prepare y_pred\n",
        "y_pred_train_f_temp = [word for sentence in y_pred_train for word in sentence]\n",
        "y_pred_train_f = [tag2id[val] for val in y_pred_train_f_temp]\n",
        "print(\"\\nPred train values: \", len(y_pred_train_f))\n",
        "\n",
        "y_pred_dev_f_temp = [word for sentence in y_pred_dev for word in sentence]\n",
        "y_pred_dev_f = [tag2id[val] for val in y_pred_dev_f_temp]\n",
        "print(\"Pred dev values: \", len(y_pred_dev_f))\n",
        "\n",
        "y_pred_test_f_temp = [word for sentence in y_pred_test for word in sentence]\n",
        "y_pred_test_f = [tag2id[val] for val in y_pred_test_f_temp]\n",
        "print(\"Pred test values: \", len(y_pred_test_f))"
      ],
      "metadata": {
        "colab": {
          "base_uri": "https://localhost:8080/"
        },
        "id": "onkNzRd1J6Gu",
        "outputId": "643af1e8-c896-4573-82d6-39b3ce3523d9"
      },
      "execution_count": 35,
      "outputs": [
        {
          "output_type": "stream",
          "name": "stdout",
          "text": [
            "\n",
            "Pred train values:  57831\n",
            "Pred dev values:  19254\n",
            "Pred test values:  18188\n"
          ]
        }
      ]
    },
    {
      "cell_type": "code",
      "source": [
        "m_train_f1_score = f1_score(y_true_train_f, y_pred_train_f, average = 'macro')\n",
        "print(\"Train f1-score: {:.2f}% \\n\".format(m_train_f1_score*100))\n",
        "\n",
        "m_val_f1_score = f1_score(y_true_dev_f, y_pred_dev_f, average = 'macro')\n",
        "print(\"Evaluation f1-score: {:.2f}% \\n\".format(m_val_f1_score*100))\n",
        "\n",
        "m_test_f1_score = f1_score(y_true_test_f, y_pred_test_f, average = 'macro')\n",
        "print(\"Test f1-score: {:.2f}% \\n\".format(m_test_f1_score*100))"
      ],
      "metadata": {
        "colab": {
          "base_uri": "https://localhost:8080/"
        },
        "id": "q6qAqdbVJ74T",
        "outputId": "268ce9b5-ae2e-42f0-cb4a-d41b1c89e52e"
      },
      "execution_count": 36,
      "outputs": [
        {
          "output_type": "stream",
          "name": "stdout",
          "text": [
            "Train f1-score: 84.99% \n",
            "\n",
            "Evaluation f1-score: 83.14% \n",
            "\n",
            "Test f1-score: 82.73% \n",
            "\n"
          ]
        }
      ]
    },
    {
      "cell_type": "markdown",
      "source": [
        "### Precision, Recall, AUC, ROC-AUC"
      ],
      "metadata": {
        "id": "4buTRoGoJwRE"
      }
    },
    {
      "cell_type": "code",
      "source": [
        "def errorCheck(y_true, y_pred):\n",
        "\n",
        "  # Find the unique classes in y_true and y_pred\n",
        "  unique_classes = np.unique(np.concatenate((y_true, y_pred)))\n",
        "\n",
        "  # Find the classes present in y_true but not in y_pred\n",
        "  missing_classes_y_pred = unique_classes[np.in1d(unique_classes, y_true) & ~np.in1d(unique_classes, y_pred)]\n",
        "\n",
        "  # Find the classes present in y_pred but not in y_true\n",
        "  missing_classes_y_true = unique_classes[np.in1d(unique_classes, y_pred) & ~np.in1d(unique_classes, y_true)]\n",
        "\n",
        "  # Calculate the sample size before modifying y_pred and y_true and my_max to know which has the extra class\n",
        "  if len(y_pred) > len(y_true):\n",
        "    my_max = y_pred\n",
        "  else:\n",
        "    my_max = y_true\n",
        "\n",
        "  sample_size = max(len(y_pred), len(y_true))\n",
        "\n",
        "  # Modify y_pred to include all the classes present in y_true\n",
        "  for c in missing_classes_y_pred:\n",
        "      y_pred = np.append(y_pred, c)\n",
        "\n",
        "  # Modify y_true to include all the classes present in y_pred\n",
        "  for c in missing_classes_y_true:\n",
        "      y_true = np.append(y_true, c)\n",
        "\n",
        "  y_pred_onehot = np.eye(len(unique_classes))[y_pred[:sample_size]]\n",
        "  y_true_onehot = np.eye(len(unique_classes))[y_true[:sample_size]]\n",
        "\n",
        "\n",
        "  return y_true, y_true_onehot, y_pred, y_pred_onehot, my_max"
      ],
      "metadata": {
        "id": "pV_5hmCiT4w3"
      },
      "execution_count": 37,
      "outputs": []
    },
    {
      "cell_type": "code",
      "source": [
        "def calculate_Bert_Results(x, y_true, y_pred):\n",
        "\n",
        "  train_precision_score = precision_score(y_true, y_pred, average = None)\n",
        "  train_recall_score = recall_score(y_true, y_pred, average = None)\n",
        "  train_f1_score = f1_score(y_true, y_pred, average = None)\n",
        "\n",
        "\n",
        "  m_train_precision_score = precision_score(y_true, y_pred, average = 'macro')\n",
        "  m_train_recall_score = recall_score(y_true, y_pred, average = 'macro')\n",
        "  m_train_f1_score = f1_score(y_true, y_pred, average = 'macro')\n",
        "\n",
        "  # Error checking\n",
        "\n",
        "  unique_pred = np.unique(y_pred)\n",
        "  unique_true = np.unique(y_true)\n",
        "\n",
        "  if unique_pred.shape != unique_true.shape:\n",
        "      y_true_upd, y_true_onehot, y_pred_upd, y_pred_onehot, my_max = errorCheck(y_true, y_pred)\n",
        "\n",
        "  elif unique_pred.shape == unique_true.shape and (unique_pred != unique_true).any():\n",
        "      y_true_upd, y_true_onehot, y_pred_upd, y_pred_onehot, my_max = errorCheck(y_true, y_pred)\n",
        "\n",
        "  else:\n",
        "    my_max = y_pred # y_pred or y_true is the same thing in this case\n",
        "    # One-hot encode the predicted class labels\n",
        "    y_pred_onehot = np.eye(len(np.unique(y_pred)))[y_pred]\n",
        "\n",
        "    # One-hot encode the true class labels\n",
        "    y_true_onehot = np.eye(len(np.unique(y_true)))[y_true]\n",
        "\n",
        "\n",
        "  m_train_roc_auc_score = roc_auc_score(y_true_onehot, y_pred_onehot, multi_class= 'ovr', average = 'macro')\n",
        "\n",
        "    # auc calculation is a bit more messy\n",
        "\n",
        "  classes = np.unique(my_max) # get the classes of the model\n",
        "  train_roc_auc_score = {}\n",
        "  for i in range(len(classes)):\n",
        "      c = classes[i]\n",
        "      # Prepares an auxiliar dataframe to help with the plots\n",
        "      df_x = pd.DataFrame (x) # convert list to a dataframe\n",
        "      y_proba = y_pred_onehot # calculate the probabilities\n",
        "      df_aux = df_x.copy()\n",
        "      df_aux_flat = df_aux.values.flatten()\n",
        "\n",
        "      list_aux_flat = []\n",
        "      # Delete the paddings from the dataframe and \"normalize\" the value to be in the scale 0 - 17\n",
        "      for j in df_aux_flat:\n",
        "        if j!=0:\n",
        "          list_aux_flat.append(j)\n",
        "      df_aux_upd = pd.DataFrame (list_aux_flat)\n",
        "\n",
        "      df_aux_upd['class'] = [1 if y == c else 0 for y in y_true]\n",
        "      df_aux_upd['prob'] = y_proba[:, i]\n",
        "      df_aux_upd = df_aux_upd.reset_index(drop = True)\n",
        "    \n",
        "      # Calculates the ROC AUC OvR\n",
        "      train_roc_auc_score[c] = roc_auc_score(df_aux_upd['class'], df_aux_upd['prob'])\n",
        "\n",
        "  table = [['    ', 'Precision', 'Recall', 'F1', 'AUC', 'Macro-Precision', 'Macro-Recall', 'Macro-F1', 'Macro-AUC'], \n",
        "           ['ADJ', round(train_precision_score[0], 3), round(train_recall_score[0], 3), round(train_f1_score[0], 3), round(train_roc_auc_score[0], 3), '-', '-', '-', '-'],\n",
        "           ['ADP', round(train_precision_score[1], 3), round(train_recall_score[1], 3), round(train_f1_score[1], 3), round(train_roc_auc_score[1], 3), '-', '-', '-', '-'],\n",
        "           ['ADV', round(train_precision_score[2], 3), round(train_recall_score[2], 3), round(train_f1_score[2], 3), round(train_roc_auc_score[2], 3), '-', '-', '-', '-'],\n",
        "           ['AUX', round(train_precision_score[3], 3), round(train_recall_score[3], 3), round(train_f1_score[3], 3), round(train_roc_auc_score[3], 3), '-', '-', '-', '-'],\n",
        "           ['CCONJ', round(train_precision_score[4], 3), round(train_recall_score[4], 3), round(train_f1_score[4], 3), round(train_roc_auc_score[4], 3), '-', '-', '-', '-'],\n",
        "           ['DET', round(train_precision_score[5], 3), round(train_recall_score[5], 3), round(train_f1_score[5], 3), round(train_roc_auc_score[5], 3), '-', '-', '-', '-'],\n",
        "           ['INTJ', round(train_precision_score[6], 3), round(train_recall_score[6], 3), round(train_f1_score[6], 3), round(train_roc_auc_score[6], 3), '-', '-', '-', '-'],\n",
        "           ['NOUN', round(train_precision_score[7], 3), round(train_recall_score[7], 3), round(train_f1_score[7], 3), round(train_roc_auc_score[7], 3), '-', '-', '-', '-'],\n",
        "           ['NUM', round(train_precision_score[8], 3), round(train_recall_score[8], 3), round(train_f1_score[8], 3), round(train_roc_auc_score[8], 3), '-', '-', '-', '-'],\n",
        "           ['PART', round(train_precision_score[9], 3), round(train_recall_score[9], 3), round(train_f1_score[9], 3), round(train_roc_auc_score[9], 3), '-', '-', '-', '-'],\n",
        "           ['PRON', round(train_precision_score[10], 3), round(train_recall_score[10], 3), round(train_f1_score[10], 3), round(train_roc_auc_score[10], 3), '-', '-', '-', '-'],\n",
        "           ['PROPN', round(train_precision_score[11], 3), round(train_recall_score[11], 3), round(train_f1_score[11], 3), round(train_roc_auc_score[11], 3), '-', '-', '-', '-'],\n",
        "           ['PUNCT', round(train_precision_score[12], 3), round(train_recall_score[12], 3), round(train_f1_score[12], 3), round(train_roc_auc_score[12], 3), '-', '-', '-', '-'],\n",
        "           ['SCONJ', round(train_precision_score[13], 3), round(train_recall_score[13], 3), round(train_f1_score[13], 3), round(train_roc_auc_score[13], 3), '-', '-', '-', '-'],\n",
        "           ['SPACE', round(train_precision_score[14], 3), round(train_recall_score[14], 3), round(train_f1_score[14], 3), round(train_roc_auc_score[14], 3), '-', '-', '-', '-'],\n",
        "           ['SYM', round(train_precision_score[15], 3), round(train_recall_score[15], 3), round(train_f1_score[15], 3), round(train_roc_auc_score[15], 3), '-', '-', '-', '-'],\n",
        "           ['VERB', round(train_precision_score[16], 3), round(train_recall_score[16], 3), round(train_f1_score[16], 3), round(train_roc_auc_score[16], 3), '-', '-', '-', '-'],\n",
        "           ['X', round(train_precision_score[17], 3), round(train_recall_score[17], 3), round(train_f1_score[17], 3), round(train_roc_auc_score[17], 3), '-', '-', '-', '-'],\n",
        "           ['Total', '-', '-','-','-', round(m_train_precision_score, 3), round(m_train_recall_score, 3), round(m_train_f1_score, 3), round(m_train_roc_auc_score, 3)]]\n",
        "\n",
        "  print(tabulate(table, headers='firstrow', tablefmt='fancy_grid'))\n",
        "  return table"
      ],
      "metadata": {
        "id": "gt6yziEyJ99h"
      },
      "execution_count": 38,
      "outputs": []
    },
    {
      "cell_type": "code",
      "source": [
        "# With our implementation we have removed spaces so we will add a dummy value to avoid error since the SPACE category will be empty\n",
        "y_true_train_f.append(14)\n",
        "y_pred_train_f.append(14)\n",
        "x_train_final.append('dummy')\n",
        "\n",
        "y_true_dev_f.append(14)\n",
        "y_pred_dev_f.append(14)\n",
        "x_dev_final.append('dummy')\n",
        "\n",
        "y_true_test_f.append(14)\n",
        "y_pred_test_f.append(14)\n",
        "x_test_final.append('dummy')"
      ],
      "metadata": {
        "id": "eEQF9-xgvofc"
      },
      "execution_count": 39,
      "outputs": []
    },
    {
      "cell_type": "code",
      "source": [
        "print(\"Bert ---------------------------------------------------------------------------------------------------------\\n\")\n",
        "\n",
        "print(\"The training results: \\n\")\n",
        "bert_train_table = calculate_Bert_Results(x_train_final, y_true_train_f, y_pred_train_f)\n",
        "\n",
        "print(\"The evaluation results: \\n\")\n",
        "bert_dev_table = calculate_Bert_Results(x_dev_final, y_true_dev_f, y_pred_dev_f)\n",
        "\n",
        "print(\"The test results: \\n\")\n",
        "bert_test_table = calculate_Bert_Results(x_test_final, y_true_test_f, y_pred_test_f)"
      ],
      "metadata": {
        "colab": {
          "base_uri": "https://localhost:8080/"
        },
        "id": "mIS8FnDnJ_I8",
        "outputId": "7de3b747-d534-4970-f3e3-e8f91dff4f38"
      },
      "execution_count": 40,
      "outputs": [
        {
          "output_type": "stream",
          "name": "stdout",
          "text": [
            "Bert ---------------------------------------------------------------------------------------------------------\n",
            "\n",
            "The training results: \n",
            "\n",
            "╒════════╤═════════════╤══════════╤═══════╤═══════╤═══════════════════╤════════════════╤════════════╤═════════════╕\n",
            "│        │ Precision   │ Recall   │ F1    │ AUC   │ Macro-Precision   │ Macro-Recall   │ Macro-F1   │ Macro-AUC   │\n",
            "╞════════╪═════════════╪══════════╪═══════╪═══════╪═══════════════════╪════════════════╪════════════╪═════════════╡\n",
            "│ ADJ    │ 0.927       │ 0.956    │ 0.941 │ 0.976 │ -                 │ -              │ -          │ -           │\n",
            "├────────┼─────────────┼──────────┼───────┼───────┼───────────────────┼────────────────┼────────────┼─────────────┤\n",
            "│ ADP    │ 0.985       │ 0.989    │ 0.987 │ 0.994 │ -                 │ -              │ -          │ -           │\n",
            "├────────┼─────────────┼──────────┼───────┼───────┼───────────────────┼────────────────┼────────────┼─────────────┤\n",
            "│ ADV    │ 0.947       │ 0.958    │ 0.953 │ 0.978 │ -                 │ -              │ -          │ -           │\n",
            "├────────┼─────────────┼──────────┼───────┼───────┼───────────────────┼────────────────┼────────────┼─────────────┤\n",
            "│ AUX    │ 0.993       │ 0.993    │ 0.993 │ 0.996 │ -                 │ -              │ -          │ -           │\n",
            "├────────┼─────────────┼──────────┼───────┼───────┼───────────────────┼────────────────┼────────────┼─────────────┤\n",
            "│ CCONJ  │ 0.991       │ 0.995    │ 0.993 │ 0.997 │ -                 │ -              │ -          │ -           │\n",
            "├────────┼─────────────┼──────────┼───────┼───────┼───────────────────┼────────────────┼────────────┼─────────────┤\n",
            "│ DET    │ 0.974       │ 0.997    │ 0.986 │ 0.997 │ -                 │ -              │ -          │ -           │\n",
            "├────────┼─────────────┼──────────┼───────┼───────┼───────────────────┼────────────────┼────────────┼─────────────┤\n",
            "│ INTJ   │ 0.979       │ 0.868    │ 0.92  │ 0.934 │ -                 │ -              │ -          │ -           │\n",
            "├────────┼─────────────┼──────────┼───────┼───────┼───────────────────┼────────────────┼────────────┼─────────────┤\n",
            "│ NOUN   │ 0.961       │ 0.949    │ 0.955 │ 0.971 │ -                 │ -              │ -          │ -           │\n",
            "├────────┼─────────────┼──────────┼───────┼───────┼───────────────────┼────────────────┼────────────┼─────────────┤\n",
            "│ NUM    │ 0.871       │ 0.966    │ 0.916 │ 0.983 │ -                 │ -              │ -          │ -           │\n",
            "├────────┼─────────────┼──────────┼───────┼───────┼───────────────────┼────────────────┼────────────┼─────────────┤\n",
            "│ PART   │ 0.982       │ 0.919    │ 0.949 │ 0.959 │ -                 │ -              │ -          │ -           │\n",
            "├────────┼─────────────┼──────────┼───────┼───────┼───────────────────┼────────────────┼────────────┼─────────────┤\n",
            "│ PRON   │ 0.993       │ 0.993    │ 0.993 │ 0.996 │ -                 │ -              │ -          │ -           │\n",
            "├────────┼─────────────┼──────────┼───────┼───────┼───────────────────┼────────────────┼────────────┼─────────────┤\n",
            "│ PROPN  │ 0.93        │ 0.906    │ 0.918 │ 0.951 │ -                 │ -              │ -          │ -           │\n",
            "├────────┼─────────────┼──────────┼───────┼───────┼───────────────────┼────────────────┼────────────┼─────────────┤\n",
            "│ PUNCT  │ 0.992       │ 1.0      │ 0.996 │ 0.999 │ -                 │ -              │ -          │ -           │\n",
            "├────────┼─────────────┼──────────┼───────┼───────┼───────────────────┼────────────────┼────────────┼─────────────┤\n",
            "│ SCONJ  │ 0.984       │ 0.957    │ 0.971 │ 0.979 │ -                 │ -              │ -          │ -           │\n",
            "├────────┼─────────────┼──────────┼───────┼───────┼───────────────────┼────────────────┼────────────┼─────────────┤\n",
            "│ SPACE  │ 1.0         │ 1.0      │ 1.0   │ 1.0   │ -                 │ -              │ -          │ -           │\n",
            "├────────┼─────────────┼──────────┼───────┼───────┼───────────────────┼────────────────┼────────────┼─────────────┤\n",
            "│ SYM    │ 0.0         │ 0.0      │ 0.0   │ 0.5   │ -                 │ -              │ -          │ -           │\n",
            "├────────┼─────────────┼──────────┼───────┼───────┼───────────────────┼────────────────┼────────────┼─────────────┤\n",
            "│ VERB   │ 0.977       │ 0.979    │ 0.978 │ 0.988 │ -                 │ -              │ -          │ -           │\n",
            "├────────┼─────────────┼──────────┼───────┼───────┼───────────────────┼────────────────┼────────────┼─────────────┤\n",
            "│ X      │ 0.0         │ 0.0      │ 0.0   │ 0.5   │ -                 │ -              │ -          │ -           │\n",
            "├────────┼─────────────┼──────────┼───────┼───────┼───────────────────┼────────────────┼────────────┼─────────────┤\n",
            "│ Total  │ -           │ -        │ -     │ -     │ 0.86              │ 0.857          │ 0.858      │ 0.928       │\n",
            "╘════════╧═════════════╧══════════╧═══════╧═══════╧═══════════════════╧════════════════╧════════════╧═════════════╛\n",
            "The evaluation results: \n",
            "\n",
            "╒════════╤═════════════╤══════════╤═══════╤═══════╤═══════════════════╤════════════════╤════════════╤═════════════╕\n",
            "│        │ Precision   │ Recall   │ F1    │ AUC   │ Macro-Precision   │ Macro-Recall   │ Macro-F1   │ Macro-AUC   │\n",
            "╞════════╪═════════════╪══════════╪═══════╪═══════╪═══════════════════╪════════════════╪════════════╪═════════════╡\n",
            "│ ADJ    │ 0.866       │ 0.901    │ 0.883 │ 0.946 │ -                 │ -              │ -          │ -           │\n",
            "├────────┼─────────────┼──────────┼───────┼───────┼───────────────────┼────────────────┼────────────┼─────────────┤\n",
            "│ ADP    │ 0.968       │ 0.976    │ 0.972 │ 0.986 │ -                 │ -              │ -          │ -           │\n",
            "├────────┼─────────────┼──────────┼───────┼───────┼───────────────────┼────────────────┼────────────┼─────────────┤\n",
            "│ ADV    │ 0.933       │ 0.913    │ 0.923 │ 0.955 │ -                 │ -              │ -          │ -           │\n",
            "├────────┼─────────────┼──────────┼───────┼───────┼───────────────────┼────────────────┼────────────┼─────────────┤\n",
            "│ AUX    │ 0.987       │ 0.993    │ 0.99  │ 0.996 │ -                 │ -              │ -          │ -           │\n",
            "├────────┼─────────────┼──────────┼───────┼───────┼───────────────────┼────────────────┼────────────┼─────────────┤\n",
            "│ CCONJ  │ 0.987       │ 0.994    │ 0.991 │ 0.997 │ -                 │ -              │ -          │ -           │\n",
            "├────────┼─────────────┼──────────┼───────┼───────┼───────────────────┼────────────────┼────────────┼─────────────┤\n",
            "│ DET    │ 0.964       │ 0.992    │ 0.978 │ 0.994 │ -                 │ -              │ -          │ -           │\n",
            "├────────┼─────────────┼──────────┼───────┼───────┼───────────────────┼────────────────┼────────────┼─────────────┤\n",
            "│ INTJ   │ 1.0         │ 0.833    │ 0.909 │ 0.917 │ -                 │ -              │ -          │ -           │\n",
            "├────────┼─────────────┼──────────┼───────┼───────┼───────────────────┼────────────────┼────────────┼─────────────┤\n",
            "│ NOUN   │ 0.912       │ 0.915    │ 0.914 │ 0.948 │ -                 │ -              │ -          │ -           │\n",
            "├────────┼─────────────┼──────────┼───────┼───────┼───────────────────┼────────────────┼────────────┼─────────────┤\n",
            "│ NUM    │ 0.914       │ 0.965    │ 0.939 │ 0.982 │ -                 │ -              │ -          │ -           │\n",
            "├────────┼─────────────┼──────────┼───────┼───────┼───────────────────┼────────────────┼────────────┼─────────────┤\n",
            "│ PART   │ 0.972       │ 0.898    │ 0.933 │ 0.949 │ -                 │ -              │ -          │ -           │\n",
            "├────────┼─────────────┼──────────┼───────┼───────┼───────────────────┼────────────────┼────────────┼─────────────┤\n",
            "│ PRON   │ 0.984       │ 0.982    │ 0.983 │ 0.99  │ -                 │ -              │ -          │ -           │\n",
            "├────────┼─────────────┼──────────┼───────┼───────┼───────────────────┼────────────────┼────────────┼─────────────┤\n",
            "│ PROPN  │ 0.868       │ 0.828    │ 0.848 │ 0.91  │ -                 │ -              │ -          │ -           │\n",
            "├────────┼─────────────┼──────────┼───────┼───────┼───────────────────┼────────────────┼────────────┼─────────────┤\n",
            "│ PUNCT  │ 0.991       │ 1.0      │ 0.996 │ 0.999 │ -                 │ -              │ -          │ -           │\n",
            "├────────┼─────────────┼──────────┼───────┼───────┼───────────────────┼────────────────┼────────────┼─────────────┤\n",
            "│ SCONJ  │ 0.943       │ 0.909    │ 0.926 │ 0.954 │ -                 │ -              │ -          │ -           │\n",
            "├────────┼─────────────┼──────────┼───────┼───────┼───────────────────┼────────────────┼────────────┼─────────────┤\n",
            "│ SPACE  │ 1.0         │ 1.0      │ 1.0   │ 1.0   │ -                 │ -              │ -          │ -           │\n",
            "├────────┼─────────────┼──────────┼───────┼───────┼───────────────────┼────────────────┼────────────┼─────────────┤\n",
            "│ SYM    │ 0.0         │ 0.0      │ 0.0   │ 0.5   │ -                 │ -              │ -          │ -           │\n",
            "├────────┼─────────────┼──────────┼───────┼───────┼───────────────────┼────────────────┼────────────┼─────────────┤\n",
            "│ VERB   │ 0.953       │ 0.946    │ 0.949 │ 0.97  │ -                 │ -              │ -          │ -           │\n",
            "├────────┼─────────────┼──────────┼───────┼───────┼───────────────────┼────────────────┼────────────┼─────────────┤\n",
            "│ X      │ 0.0         │ 0.0      │ 0.0   │ 0.5   │ -                 │ -              │ -          │ -           │\n",
            "├────────┼─────────────┼──────────┼───────┼───────┼───────────────────┼────────────────┼────────────┼─────────────┤\n",
            "│ Total  │ -           │ -        │ -     │ -     │ 0.847             │ 0.836          │ 0.841      │ 0.916       │\n",
            "╘════════╧═════════════╧══════════╧═══════╧═══════╧═══════════════════╧════════════════╧════════════╧═════════════╛\n",
            "The test results: \n",
            "\n",
            "╒════════╤═════════════╤══════════╤═══════╤═══════╤═══════════════════╤════════════════╤════════════╤═════════════╕\n",
            "│        │ Precision   │ Recall   │ F1    │ AUC   │ Macro-Precision   │ Macro-Recall   │ Macro-F1   │ Macro-AUC   │\n",
            "╞════════╪═════════════╪══════════╪═══════╪═══════╪═══════════════════╪════════════════╪════════════╪═════════════╡\n",
            "│ ADJ    │ 0.875       │ 0.91     │ 0.892 │ 0.951 │ -                 │ -              │ -          │ -           │\n",
            "├────────┼─────────────┼──────────┼───────┼───────┼───────────────────┼────────────────┼────────────┼─────────────┤\n",
            "│ ADP    │ 0.972       │ 0.981    │ 0.977 │ 0.989 │ -                 │ -              │ -          │ -           │\n",
            "├────────┼─────────────┼──────────┼───────┼───────┼───────────────────┼────────────────┼────────────┼─────────────┤\n",
            "│ ADV    │ 0.925       │ 0.917    │ 0.921 │ 0.957 │ -                 │ -              │ -          │ -           │\n",
            "├────────┼─────────────┼──────────┼───────┼───────┼───────────────────┼────────────────┼────────────┼─────────────┤\n",
            "│ AUX    │ 0.991       │ 0.995    │ 0.993 │ 0.997 │ -                 │ -              │ -          │ -           │\n",
            "├────────┼─────────────┼──────────┼───────┼───────┼───────────────────┼────────────────┼────────────┼─────────────┤\n",
            "│ CCONJ  │ 0.996       │ 0.992    │ 0.994 │ 0.996 │ -                 │ -              │ -          │ -           │\n",
            "├────────┼─────────────┼──────────┼───────┼───────┼───────────────────┼────────────────┼────────────┼─────────────┤\n",
            "│ DET    │ 0.967       │ 0.99     │ 0.978 │ 0.994 │ -                 │ -              │ -          │ -           │\n",
            "├────────┼─────────────┼──────────┼───────┼───────┼───────────────────┼────────────────┼────────────┼─────────────┤\n",
            "│ INTJ   │ 1.0         │ 0.721    │ 0.838 │ 0.86  │ -                 │ -              │ -          │ -           │\n",
            "├────────┼─────────────┼──────────┼───────┼───────┼───────────────────┼────────────────┼────────────┼─────────────┤\n",
            "│ NOUN   │ 0.92        │ 0.913    │ 0.917 │ 0.948 │ -                 │ -              │ -          │ -           │\n",
            "├────────┼─────────────┼──────────┼───────┼───────┼───────────────────┼────────────────┼────────────┼─────────────┤\n",
            "│ NUM    │ 0.782       │ 0.956    │ 0.86  │ 0.977 │ -                 │ -              │ -          │ -           │\n",
            "├────────┼─────────────┼──────────┼───────┼───────┼───────────────────┼────────────────┼────────────┼─────────────┤\n",
            "│ PART   │ 0.98        │ 0.9      │ 0.938 │ 0.95  │ -                 │ -              │ -          │ -           │\n",
            "├────────┼─────────────┼──────────┼───────┼───────┼───────────────────┼────────────────┼────────────┼─────────────┤\n",
            "│ PRON   │ 0.983       │ 0.988    │ 0.986 │ 0.993 │ -                 │ -              │ -          │ -           │\n",
            "├────────┼─────────────┼──────────┼───────┼───────┼───────────────────┼────────────────┼────────────┼─────────────┤\n",
            "│ PROPN  │ 0.887       │ 0.845    │ 0.866 │ 0.919 │ -                 │ -              │ -          │ -           │\n",
            "├────────┼─────────────┼──────────┼───────┼───────┼───────────────────┼────────────────┼────────────┼─────────────┤\n",
            "│ PUNCT  │ 0.992       │ 0.997    │ 0.995 │ 0.998 │ -                 │ -              │ -          │ -           │\n",
            "├────────┼─────────────┼──────────┼───────┼───────┼───────────────────┼────────────────┼────────────┼─────────────┤\n",
            "│ SCONJ  │ 0.973       │ 0.936    │ 0.954 │ 0.968 │ -                 │ -              │ -          │ -           │\n",
            "├────────┼─────────────┼──────────┼───────┼───────┼───────────────────┼────────────────┼────────────┼─────────────┤\n",
            "│ SPACE  │ 1.0         │ 1.0      │ 1.0   │ 1.0   │ -                 │ -              │ -          │ -           │\n",
            "├────────┼─────────────┼──────────┼───────┼───────┼───────────────────┼────────────────┼────────────┼─────────────┤\n",
            "│ SYM    │ 0.0         │ 0.0      │ 0.0   │ 0.5   │ -                 │ -              │ -          │ -           │\n",
            "├────────┼─────────────┼──────────┼───────┼───────┼───────────────────┼────────────────┼────────────┼─────────────┤\n",
            "│ VERB   │ 0.954       │ 0.956    │ 0.955 │ 0.975 │ -                 │ -              │ -          │ -           │\n",
            "├────────┼─────────────┼──────────┼───────┼───────┼───────────────────┼────────────────┼────────────┼─────────────┤\n",
            "│ X      │ 0.0         │ 0.0      │ 0.0   │ 0.5   │ -                 │ -              │ -          │ -           │\n",
            "├────────┼─────────────┼──────────┼───────┼───────┼───────────────────┼────────────────┼────────────┼─────────────┤\n",
            "│ Total  │ -           │ -        │ -     │ -     │ 0.844             │ 0.833          │ 0.837      │ 0.915       │\n",
            "╘════════╧═════════════╧══════════╧═══════╧═══════╧═══════════════════╧════════════════╧════════════╧═════════════╛\n"
          ]
        }
      ]
    },
    {
      "cell_type": "markdown",
      "source": [
        "### Hyper Parameter Tuning"
      ],
      "metadata": {
        "id": "KKUTlO9gK9h_"
      }
    },
    {
      "cell_type": "code",
      "source": [
        "def compute_metrics2(p):\n",
        "    predictions, labels = p\n",
        "    predictions = np.argmax(predictions, axis=2)\n",
        "\n",
        "    true_predictions = [\n",
        "        [classes[p] for (p, l) in zip(prediction, label) if l != -100]\n",
        "        for prediction, label in zip(predictions, labels)\n",
        "    ]\n",
        "    true_labels = [\n",
        "        [classes[l] for (p, l) in zip(prediction, label) if l != -100]\n",
        "        for prediction, label in zip(predictions, labels)\n",
        "    ]\n",
        "\n",
        "    # Compute precision, recall, f1, and accuracy\n",
        "    num_correct = 0\n",
        "    num_predicted = 0\n",
        "    num_gold = 0\n",
        "    for i in range(len(true_predictions)):\n",
        "        for j in range(len(true_predictions[i])):\n",
        "            if true_predictions[i][j] == true_labels[i][j]:\n",
        "                num_correct += 1\n",
        "            num_predicted += 1\n",
        "            num_gold += 1\n",
        "    precision = num_correct / num_predicted if num_predicted > 0 else 0\n",
        "    recall = num_correct / num_gold if num_gold > 0 else 0\n",
        "    f1 = 2 * (precision * recall) / (precision + recall) if (precision + recall) > 0 else 0\n",
        "    accuracy = num_correct / num_gold if num_gold > 0 else 0\n",
        "\n",
        "    eval_metrics = {\n",
        "        \"eval_loss\": 0,  # add any necessary loss calculation\n",
        "        \"eval_precision\": precision,\n",
        "        \"eval_recall\": recall,\n",
        "        \"eval_f1\": f1,\n",
        "        \"eval_accuracy\": accuracy,\n",
        "        \"eval_runtime\": 0,  # add any necessary runtime calculation\n",
        "        \"eval_samples_per_second\": 0,  # add any necessary samples per second calculation\n",
        "        \"eval_steps_per_second\": 0,  # add any necessary steps per second calculation\n",
        "    }\n",
        "\n",
        "    return eval_metrics\n"
      ],
      "metadata": {
        "id": "T3nPDUNa2Z8G"
      },
      "execution_count": 65,
      "outputs": []
    },
    {
      "cell_type": "code",
      "source": [
        "def model_init():\n",
        "    return AutoModelForTokenClassification.from_pretrained(\"/content/POS-Tagging/pos-tag-bert-uncased\", num_labels=len(classes), return_dict=True)\n",
        "\n",
        "\n",
        "training_args = TrainingArguments(\n",
        "    \"test\",\n",
        "    evaluation_strategy=\"steps\",\n",
        "    report_to=\"wandb\",\n",
        "    eval_steps=100,\n",
        "    disable_tqdm=True\n",
        ")\n",
        "\n",
        "def tune_model(config):\n",
        "    trainer = Trainer(\n",
        "        args=training_args,\n",
        "        tokenizer=tokenizer_2,\n",
        "        train_dataset=tokenized_train,\n",
        "        eval_dataset=tokenized_dev,\n",
        "        model_init=model_init,\n",
        "        compute_metrics=compute_metrics2,\n",
        "    )\n",
        "    trainer.train()\n",
        "    results = trainer.evaluate()\n",
        "\n",
        "    tune.report(eval_accuracy=results[\"eval_accuracy\"], eval_f1=results[\"eval_f1\"])\n",
        "\n",
        "search_space = {\n",
        "    \"learning_rate\": tune.loguniform(0.0001, 0.001, 0.01),\n",
        "    \"num_train_epochs\": tune.choice([1, 2, 3]),\n",
        "    \"per_device_train_batch_size\": tune.choice([4, 8, 16]),\n",
        "    \"weight_decay\": tune.loguniform(1e-6, 1e-1)\n",
        "}\n",
        "\n",
        "scheduler = ASHAScheduler(\n",
        "    max_t=5,\n",
        "    grace_period=1,\n",
        "    reduction_factor=2)\n",
        "\n",
        "reporter = CLIReporter(metric_columns=[\"eval_accuracy\", \"eval_f1\"])\n",
        "\n",
        "analysis = tune.run(\n",
        "    tune_model,\n",
        "    metric = \"eval_f1\",\n",
        "    mode = \"max\",\n",
        "    resources_per_trial={\"cpu\": 1, \"gpu\": 1},\n",
        "    config=search_space,\n",
        "    num_samples=5,\n",
        "    scheduler=scheduler,\n",
        "    progress_reporter=reporter\n",
        ")"
      ],
      "metadata": {
        "id": "Web3Rb2wbBqM"
      },
      "execution_count": null,
      "outputs": []
    }
  ]
}